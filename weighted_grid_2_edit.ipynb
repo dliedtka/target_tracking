{
 "cells": [
  {
   "cell_type": "code",
   "execution_count": 1,
   "metadata": {},
   "outputs": [],
   "source": [
    "using Plots\n",
    "using ParticleFilters\n",
    "using Distributions\n",
    "using StaticArrays\n",
    "using LinearAlgebra\n",
    "using Random\n",
    "using StatsBase\n",
    "#using Reel\n",
    "using SparseArrays\n",
    "using GridInterpolations\n",
    "using DataStructures\n",
    "using DataFrames\n",
    "using CSV\n",
    "using Distributed"
   ]
  },
  {
   "cell_type": "code",
   "execution_count": 2,
   "metadata": {},
   "outputs": [],
   "source": [
    "include(\"atan2.jl\")\n",
    "include(\"obs_rel.jl\")\n",
    "include(\"polargrid_rel_qual.jl\")\n",
    "rng = MersenneTwister(2);"
   ]
  },
  {
   "cell_type": "code",
   "execution_count": 3,
   "metadata": {},
   "outputs": [
    {
     "data": {
      "text/plain": [
       "f2 (generic function with 1 method)"
      ]
     },
     "execution_count": 3,
     "metadata": {},
     "output_type": "execute_result"
    }
   ],
   "source": [
    "# returns vector rather than Tuple, for particle filter\n",
    "function f2(x, u, rng)\n",
    "    temp = [i for i in f(x, u, rng)]\n",
    "    return temp\n",
    "end"
   ]
  },
  {
   "cell_type": "code",
   "execution_count": 4,
   "metadata": {},
   "outputs": [],
   "source": [
    "##########"
   ]
  },
  {
   "cell_type": "code",
   "execution_count": 5,
   "metadata": {},
   "outputs": [],
   "source": [
    "#=\n",
    "\n",
    "N = 500\n",
    "model = ParticleFilterModel{Vector{Float64}}(f2, g)\n",
    "pfilter = SIRParticleFilter(model, N);\n",
    "\n",
    "x = [rand(rng, 25:150), rand(rng,0:359), rand(rng,0:11)*30, 1, 1];   \n",
    "b = ParticleCollection([x[1:4] for i in 1:N]);\n",
    "\n",
    "# In loop:\n",
    "\n",
    "xp = f2(x, actions_[u], rng)\n",
    "y = h(xp, rng)\n",
    "b = update(pfilter, b, actions_[u], y)\n",
    "\n",
    "=#"
   ]
  },
  {
   "cell_type": "code",
   "execution_count": 6,
   "metadata": {},
   "outputs": [],
   "source": [
    "##########"
   ]
  },
  {
   "cell_type": "code",
   "execution_count": 7,
   "metadata": {},
   "outputs": [],
   "source": [
    "thestates = [(10.0*r,θ*30.0, crs*30.0, spd, qual) for r in 1:30, \n",
    "        θ in 0:11, crs in 1:12, spd in 1:2, qual in [0, 1, 10]];\n",
    "\n",
    "states_r = [10.0*r for r in 1:30]\n",
    "states_θ = [30.0*θ for θ in 0:12]\n",
    "states_crs = [30*c for c in 1:12]\n",
    "states_qual = [q for q in [0, 1, 10]]\n",
    "#states_hdg = [30*h for h in 1:12]\n",
    "states_spd = [1,2];\n",
    "\n",
    "grid = RectangleGrid(states_r, states_θ, states_crs, states_spd, states_qual)  \t# rectangular grid\n",
    "\n",
    "wrapmap = Dict()\n",
    "\n",
    "### Essentially used to map down the 360 degree parameters.\n",
    "\n",
    "for r in states_r\n",
    "    for crs in states_crs\n",
    "        for spd in states_spd\n",
    "            for qual in states_qual\n",
    "                key = interpolants(grid, [r, 360, crs, spd, qual])[1][1]\n",
    "                val = interpolants(grid, [r, 0, crs, spd, qual])[1][1]\n",
    "                wrapmap[key] = val\n",
    "            end\n",
    "        end\n",
    "    end\n",
    "end"
   ]
  },
  {
   "cell_type": "code",
   "execution_count": 8,
   "metadata": {},
   "outputs": [
    {
     "data": {
      "text/plain": [
       "polar_grid (generic function with 2 methods)"
      ]
     },
     "execution_count": 8,
     "metadata": {},
     "output_type": "execute_result"
    }
   ],
   "source": [
    "function polar_grid(vec, grid=grid)\n",
    "    polants = interpolants(grid, vec)\n",
    "    for (i, p) in enumerate(polants[1])\n",
    "        if haskey(wrapmap, p)\n",
    "            polants[1][i] = wrapmap[p]\n",
    "        end    \n",
    "    end\n",
    "    return polants\n",
    "end"
   ]
  },
  {
   "cell_type": "code",
   "execution_count": 9,
   "metadata": {},
   "outputs": [
    {
     "data": {
      "text/plain": [
       "weighted_grid_2_edit (generic function with 1 method)"
      ]
     },
     "execution_count": 9,
     "metadata": {},
     "output_type": "execute_result"
    }
   ],
   "source": [
    "function weighted_grid_2_edit(b::ParticleCollection)\n",
    "    \n",
    "    #=\n",
    "    beta = zeros(length(grid));\n",
    "    for row in particles(b)\n",
    "        for (i, x) in enumerate(polar_grid(row)[1])\n",
    "            beta[x] += polar_grid(row)[2][i]\n",
    "        end\n",
    "    end\n",
    "    =#\n",
    "    \n",
    "    # Creating the degree-radian conversion factor.\n",
    "    \n",
    "    deg_rad_conv = pi/180;\n",
    "    \n",
    "    # Creating the initial data structure to filter out the \"b_particle = particles(b)\" \n",
    "    \n",
    "    b_particle = particles(b);\n",
    "    row_num = length(b_particle);\n",
    "    col_num = length(b_particle[1]);\n",
    "    b_particle_filtered = zeros(row_num, col_num);\n",
    "\n",
    "    # Filtering out the b_particle \"Array{Array}\" into an \"Array{Int64}\" matrix.\n",
    "    \n",
    "    for row_index in 1:row_num\n",
    "        \n",
    "        for col_index in 1:col_num\n",
    "            \n",
    "            b_particle_filtered[row_index, col_index] = b_particle[row_index][col_index];\n",
    "            \n",
    "        end\n",
    "        \n",
    "    end\n",
    "    \n",
    "    # Finding the mean of the 'r', 'θ', & crs values.\n",
    "    \n",
    "    r_mean = 0;\n",
    "    \n",
    "    cos_count_θ = 0;\n",
    "    sin_count_θ = 0;\n",
    "    \n",
    "    cos_count_crs = 0;\n",
    "    sin_count_crs = 0;\n",
    "    \n",
    "    for mean_index in 1:row_num\n",
    "        \n",
    "        r = b_particle_filtered[mean_index, 1];\n",
    "        θ = b_particle_filtered[mean_index, 2];\n",
    "        crs = b_particle_filtered[mean_index, 3];\n",
    "        \n",
    "        r_mean += (r / row_num);\n",
    "        \n",
    "        cos_count_θ += (1/row_num) * cos(θ * deg_rad_conv);\n",
    "        sin_count_θ += (1/row_num) * sin(θ * deg_rad_conv);\n",
    "        \n",
    "        cos_count_crs += (1/row_num) * cos(crs * deg_rad_conv);\n",
    "        sin_count_crs += (1/row_num) * sin(crs * deg_rad_conv);\n",
    "        \n",
    "    end\n",
    "    \n",
    "    r_mean = round(r_mean);\n",
    "    θ_mean = round(atan2(cos_count_θ,sin_count_θ) / deg_rad_conv);\n",
    "    crs_mean = round(atan2(cos_count_crs,sin_count_crs) / deg_rad_conv);\n",
    "    \n",
    "    # If \"θ_mean\" or \"crs_mean\" are less than 0 degrees, the following code adds 360 degrees.\n",
    "    \n",
    "    if(θ_mean < 0.0)\n",
    "        \n",
    "        θ_mean += 360\n",
    "        \n",
    "    end\n",
    "    \n",
    "    if(crs_mean < 0.0)\n",
    "        \n",
    "        crs_mean += 360\n",
    "        \n",
    "    end\n",
    "    \n",
    "    # Source for mean radius operation: http://ballistipedia.com/index.php?title=Mean_Radius\n",
    "    # Source for mean angle operation: https://rosettacode.org/wiki/Averages/Mean_angle\n",
    "    # Some other information on the normal distributions of r & θ: http://ballistipedia.com/index.php?title=Closed_Form_Precision#Mean_Radius_.28MR.29\n",
    "    \n",
    "    # Finding the standard deviation of the crs values.\n",
    "    \n",
    "    #=\n",
    "    sum_squares_r = 0;\n",
    "    sum_squares_θ = 0;\n",
    "    =#\n",
    "    \n",
    "    sum_squares_crs = 0;\n",
    "    \n",
    "    for std_index in 1:row_num\n",
    "        \n",
    "        #=\n",
    "        r_i = b_particle_filtered[std_index,1];\n",
    "        θ_i = b_particle_filtered[std_index,2];\n",
    "        =#\n",
    "        crs_i = b_particle_filtered[std_index,3];\n",
    "        \n",
    "        #=\n",
    "        sum_squares_r += (r_i - r_mean)^2;\n",
    "        sum_squares_θ += (θ_i - θ_mean)^2;\n",
    "        =#\n",
    "        sum_squares_crs += (crs_i - crs_mean)^2;\n",
    "        \n",
    "    end\n",
    "    \n",
    "    #=\n",
    "    std_r = sqrt(sum_squares_r / (row_num - 1) );\n",
    "    std_θ = sqrt(sum_squares_θ / (row_num - 1) );\n",
    "    =#\n",
    "    \n",
    "    std_crs = sqrt(sum_squares_crs / (row_num - 1) );\n",
    "    \n",
    "    ##########\n",
    "    \n",
    "    #=\n",
    "    \n",
    "    # Converting all of the 'r' & 'θ' values into 'x' and 'y' coordinates.\n",
    "    # The 'r' & 'θ' values are subsequently replaced with the 'x' and 'y' coordinates.\n",
    "    \n",
    "    for row_index_convert in 1:row_num\n",
    "        \n",
    "        r = b_particle_filtered[row_index_convert, 1];\n",
    "        θ = b_particle_filtered[row_index_convert, 2];\n",
    "        \n",
    "        x = r * cos(θ * deg_rad_conv);\n",
    "        y = r * sin(θ * deg_rad_conv);\n",
    "        \n",
    "        b_particle_filtered[row_index_convert, 1] = x;\n",
    "        b_particle_filtered[row_index_convert, 2] = y;\n",
    "        \n",
    "    end\n",
    "    \n",
    "    x_center = mean(b_particle_filtered[:,1]);\n",
    "    y_center = mean(b_particle_filtered[:,2]);\n",
    "    \n",
    "    x_var = std(b_particle_filtered[:,1]);\n",
    "    y_var = std(b_particle_filtered[:,2]);\n",
    "    \n",
    "    r_center = sqrt(x_center^2 + y_center^2);\n",
    "    \n",
    "    r_var = sqrt(x_var^2 + y_var^2);\n",
    "    # This isn't right because you first need to find the covariance matrix, ...\n",
    "    # ... then use the singular value decomposition (SVD), and more...\n",
    "    # Let's try to avoid this.\n",
    "    \n",
    "    # Covariance: https://en.wikipedia.org/wiki/Covariance\n",
    "    # SVD: https://stackoverflow.com/questions/16585980/variance-matrix-from-polar-to-cartesian-coordinates\n",
    "    \n",
    "    =# \n",
    "    \n",
    "    ##########\n",
    "    \n",
    "    b_individual = [r_mean, θ_mean, crs_mean, std_crs];\n",
    "    println(b_individual)\n",
    "    \n",
    "    beta = zeros(length(grid));\n",
    "    for (i, x) in enumerate(polar_grid(b_individual)[1])\n",
    "        beta[x] += polar_grid(b_individual)[2][i]\n",
    "    end\n",
    "            \n",
    "    return beta\n",
    "    \n",
    "    ##########\n",
    "    \n",
    "    #=\n",
    "    vv = var(beta)\n",
    "    beta = zeros(length(grid));\n",
    "    for row in particles(b)\n",
    "        row = [float(r) for r in row]\n",
    "        push!(row, vv)\n",
    "        for (i, x) in enumerate(polar_grid(row)[1])\n",
    "            beta[x] += polar_grid(row)[2][i]\n",
    "        end\n",
    "    end\n",
    "    return beta\n",
    "    =#\n",
    "    \n",
    "    ##########\n",
    "    \n",
    "end"
   ]
  },
  {
   "cell_type": "code",
   "execution_count": 10,
   "metadata": {},
   "outputs": [],
   "source": [
    "##########"
   ]
  },
  {
   "cell_type": "code",
   "execution_count": 15,
   "metadata": {},
   "outputs": [
    {
     "name": "stdout",
     "output_type": "stream",
     "text": [
      "[58.0, 170.0, 120.0, 0.0]\n"
     ]
    }
   ],
   "source": [
    "N = 500;\n",
    "model = ParticleFilterModel{Vector{Float64}}(f2, g);\n",
    "pfilter = SIRParticleFilter(model, N);\n",
    "\n",
    "x = [rand(rng, 25:150), rand(rng,0:359), rand(rng,0:11)*30, 1, 1];   \n",
    "b = ParticleCollection([x[1:4] for i in 1:N]);\n",
    "\n",
    "test = weighted_grid_2_edit(b);"
   ]
  },
  {
   "cell_type": "code",
   "execution_count": 16,
   "metadata": {},
   "outputs": [
    {
     "data": {
      "text/plain": [
       "1-element Array{Transpose{Int64,Array{Int64,1}},1}:\n",
       " [58 170 120 1]"
      ]
     },
     "execution_count": 16,
     "metadata": {},
     "output_type": "execute_result"
    }
   ],
   "source": [
    "[transpose(particles(b)[1])]"
   ]
  },
  {
   "cell_type": "code",
   "execution_count": 17,
   "metadata": {},
   "outputs": [
    {
     "name": "stdout",
     "output_type": "stream",
     "text": [
      "[50.0, 150.0, 120.0, 1.0, 0.0], 0.06666666666666667\n",
      "[60.0, 150.0, 120.0, 1.0, 0.0], 0.2666666666666667\n",
      "[50.0, 180.0, 120.0, 1.0, 0.0], 0.1333333333333333\n",
      "[60.0, 180.0, 120.0, 1.0, 0.0], 0.5333333333333333\n"
     ]
    }
   ],
   "source": [
    "count_test = 0;\n",
    "test_val = 0.00;\n",
    "\n",
    "for counter_test in (1:length(test))\n",
    "    \n",
    "    if (test[counter_test]) > test_val\n",
    "        \n",
    "        print(grid[counter_test]);\n",
    "        print(\", \");\n",
    "        println(test[counter_test]);\n",
    "        \n",
    "        count_test += 1;\n",
    "        \n",
    "    end\n",
    "    \n",
    "end"
   ]
  },
  {
   "cell_type": "code",
   "execution_count": 18,
   "metadata": {},
   "outputs": [
    {
     "name": "stdout",
     "output_type": "stream",
     "text": [
      "28080\n",
      "28080\n"
     ]
    }
   ],
   "source": [
    "println(length(test))\n",
    "println(length(grid))"
   ]
  },
  {
   "cell_type": "code",
   "execution_count": null,
   "metadata": {},
   "outputs": [],
   "source": []
  }
 ],
 "metadata": {
  "kernelspec": {
   "display_name": "Julia 1.2.0",
   "language": "julia",
   "name": "julia-1.2"
  },
  "language_info": {
   "file_extension": ".jl",
   "mimetype": "application/julia",
   "name": "julia",
   "version": "1.2.0"
  }
 },
 "nbformat": 4,
 "nbformat_minor": 2
}
