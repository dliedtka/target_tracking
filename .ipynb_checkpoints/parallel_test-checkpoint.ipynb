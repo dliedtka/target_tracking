{
 "cells": [
  {
   "cell_type": "code",
   "execution_count": 1,
   "metadata": {},
   "outputs": [],
   "source": [
    "using Distributed\n",
    "using DistributedArrays"
   ]
  },
  {
   "cell_type": "code",
   "execution_count": null,
   "metadata": {},
   "outputs": [],
   "source": []
  },
  {
   "cell_type": "code",
   "execution_count": 2,
   "metadata": {},
   "outputs": [
    {
     "data": {
      "text/plain": [
       "8-element Array{Int64,1}:\n",
       " 2\n",
       " 3\n",
       " 4\n",
       " 5\n",
       " 6\n",
       " 7\n",
       " 8\n",
       " 9"
      ]
     },
     "execution_count": 2,
     "metadata": {},
     "output_type": "execute_result"
    }
   ],
   "source": [
    "addprocs(8)"
   ]
  },
  {
   "cell_type": "code",
   "execution_count": null,
   "metadata": {},
   "outputs": [
    {
     "name": "stdout",
     "output_type": "stream",
     "text": [
      " 21.885278 seconds (21.84 k allocations: 14.902 GiB, 34.53% gc time)\n"
     ]
    }
   ],
   "source": [
    "\n",
    "function looper(m,n)\n",
    "    results = []\n",
    "    for i in 1:2*n\n",
    "        push!(results, rand(m,m))\n",
    "    end\n",
    "    return results\n",
    "end\n",
    "\n",
    "\n",
    "function parallel_looper(m,n)\n",
    "    results = []\n",
    "    for i in 1:n\n",
    "        m1 = @spawnat 2 rand(m,m)\n",
    "        m2 = @spawnat 3 rand(m,m)\n",
    "        m3 = @spawnat 4 rand(m,m)\n",
    "        m4 = @spawnat 5 rand(m,m)\n",
    "        m5 = @spawnat 6 rand(m,m)\n",
    "        m6 = @spawnat 7 rand(m,m)\n",
    "        m7 = @spawnat 8 rand(m,m)\n",
    "        push!(results, fetch(m1))\n",
    "        push!(results, fetch(m2))\n",
    "        push!(results, fetch(m3))\n",
    "        push!(results, fetch(m4))\n",
    "        push!(results, fetch(m5))\n",
    "        push!(results, fetch(m6))\n",
    "        push!(results, fetch(m7))\n",
    "    end\n",
    "    return results\n",
    "end\n",
    "\n",
    "@time looper(1000,1000)\n",
    "@time parallel_looper(1000,1000)"
   ]
  }
 ],
 "metadata": {
  "kernelspec": {
   "display_name": "Julia 1.3.1",
   "language": "julia",
   "name": "julia-1.3"
  },
  "language_info": {
   "file_extension": ".jl",
   "mimetype": "application/julia",
   "name": "julia",
   "version": "1.3.1"
  }
 },
 "nbformat": 4,
 "nbformat_minor": 2
}
