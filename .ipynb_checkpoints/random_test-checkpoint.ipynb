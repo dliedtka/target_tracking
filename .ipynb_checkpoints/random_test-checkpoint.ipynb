{
 "cells": [
  {
   "cell_type": "code",
   "execution_count": 1,
   "metadata": {},
   "outputs": [],
   "source": [
    "using Plots\n",
    "using ParticleFilters\n",
    "using Distributions\n",
    "using StaticArrays\n",
    "using LinearAlgebra\n",
    "using Random\n",
    "using StatsBase\n",
    "#using Reel\n",
    "using SparseArrays\n",
    "using GridInterpolations\n",
    "using DataStructures\n",
    "using DataFrames\n",
    "using CSV\n",
    "using Distributed"
   ]
  },
  {
   "cell_type": "code",
   "execution_count": null,
   "metadata": {},
   "outputs": [],
   "source": []
  },
  {
   "cell_type": "code",
   "execution_count": 2,
   "metadata": {},
   "outputs": [],
   "source": [
    "\n",
    "include(\"atan2.jl\")\n",
    "include(\"obs_rel.jl\")\n",
    "include(\"polargrid_rel_qual2.jl\")\n",
    "rng = MersenneTwister(2);\n",
    "#"
   ]
  },
  {
   "cell_type": "code",
   "execution_count": 3,
   "metadata": {},
   "outputs": [
    {
     "data": {
      "text/plain": [
       "f (generic function with 1 method)"
      ]
     },
     "execution_count": 3,
     "metadata": {},
     "output_type": "execute_result"
    }
   ],
   "source": [
    "# random walk\n",
    "\n",
    "POS_0 = [6.0, 60.0]\n",
    "CRS_0 = 90 # target's course\n",
    "SPD_0 = 1 # 1 or 2\n",
    "TGT_SPD = 1\n",
    "\n",
    "#input is course in degrees and rng\n",
    "#returns next course in degrees\n",
    "function next_crs(crs,rng)\n",
    "    if rand(rng) < .9\n",
    "        return crs\n",
    "    end\n",
    "    crs = (crs + rand(rng,[-1,1])*30) % 360\n",
    "    if crs < 0 crs += 360 end\n",
    "    return crs\n",
    "end\n",
    "\n",
    "# state as tuple (x, y, crs, spd) of target (spd of o/s)\n",
    "function f(state, control, rng)\n",
    "    r, θ, crs, spd = state\n",
    "    θ += control[1]\n",
    "    spd = control[2]\n",
    "    if θ < 0 θ += 360 end\n",
    "    θ = θ % 360\n",
    "    crs -= control[1]\n",
    "    if crs < 0 crs += 360 end\n",
    "    crs = crs % 360\n",
    "    x = r*cos(π/180*θ)\n",
    "    y = r*sin(π/180*θ)\n",
    "    pos = [x + TGT_SPD*cos(π/180*crs) - spd, y + \n",
    "        TGT_SPD*sin(π/180*crs)]\n",
    "    crs = next_crs(crs,rng)\n",
    "    r = sqrt(pos[1]^2 + pos[2]^2)\n",
    "    θ = atan2(pos[1],pos[2])*180/π\n",
    "    if θ < 0 θ += 360 end\n",
    "    return (r, θ, crs, spd)::NTuple{4, Real}\n",
    "end\n",
    "#"
   ]
  },
  {
   "cell_type": "code",
   "execution_count": 4,
   "metadata": {},
   "outputs": [
    {
     "data": {
      "text/plain": [
       "r (generic function with 1 method)"
      ]
     },
     "execution_count": 4,
     "metadata": {},
     "output_type": "execute_result"
    }
   ],
   "source": [
    "function r(s)\n",
    "    range = s[1]\n",
    "    if range > 150 return -.2 end  # reward to not lose track of contact\n",
    "    if range <= 10 return -100 end  # collision avoidance\n",
    "    return .1  # being in \"sweet spot\" maximizes reward\n",
    "end\n",
    "#"
   ]
  },
  {
   "cell_type": "code",
   "execution_count": null,
   "metadata": {},
   "outputs": [],
   "source": [
    "\n"
   ]
  },
  {
   "cell_type": "code",
   "execution_count": 5,
   "metadata": {},
   "outputs": [
    {
     "data": {
      "text/plain": [
       "((-30, 1), (-30, 2), (0, 1), (0, 2), (30, 1), (30, 2))"
      ]
     },
     "execution_count": 5,
     "metadata": {},
     "output_type": "execute_result"
    }
   ],
   "source": [
    "#angles = [0, 30, 60, 90, 120, 150, 210, 240, 270, 300, 330]\n",
    "\n",
    "statespace = thestates\n",
    "actionspace = ((30,1), (0,1), (-30,1), (30, 2), (0,2), (-30,2))\n",
    "\n",
    "action_index(a) = trunc(Int, 2*(a[1]/30+1) + a[2])\n",
    "actions_ = ((-30,1), (-30, 2), (0, 1), (0, 2), (30, 1), (30, 2))\n",
    "\n"
   ]
  },
  {
   "cell_type": "code",
   "execution_count": 6,
   "metadata": {},
   "outputs": [
    {
     "data": {
      "text/plain": [
       "f2 (generic function with 1 method)"
      ]
     },
     "execution_count": 6,
     "metadata": {},
     "output_type": "execute_result"
    }
   ],
   "source": [
    "# returns vector rather than Tuple, for particle filter\n",
    "function f2(x, u, rng)\n",
    "    temp = [i for i in f(x, u, rng)]\n",
    "    return temp\n",
    "end"
   ]
  },
  {
   "cell_type": "code",
   "execution_count": 7,
   "metadata": {},
   "outputs": [],
   "source": [
    "#totals = [0.0]\n",
    "#θ = zeros(length(grid),6);\n",
    "#e = sparse(zeros(length(grid),6))\n",
    "#θ = [r(Tuple(ind2x(grid, j))) for j in 1:length(grid), i in 1:6];"
   ]
  },
  {
   "cell_type": "code",
   "execution_count": 8,
   "metadata": {},
   "outputs": [
    {
     "data": {
      "text/plain": [
       "500"
      ]
     },
     "execution_count": 8,
     "metadata": {},
     "output_type": "execute_result"
    }
   ],
   "source": [
    "\n",
    "N = 500\n",
    "model = ParticleFilterModel{Vector{Float64}}(f2, g)\n",
    "pfilter = SIRParticleFilter(model, N);\n",
    "α = 0.3\n",
    "γ = 0.98\n",
    "ϵ = 0.3\n",
    "x = [20, 60, 90, 1, 1];\n",
    "λ = 0.98\n",
    "b = ParticleCollection([[20, 60, 90, 1] for i in 1:N]);\n",
    "counter = 0\n",
    "epochsize = 500"
   ]
  },
  {
   "cell_type": "code",
   "execution_count": null,
   "metadata": {},
   "outputs": [
    {
     "name": "stdout",
     "output_type": "stream",
     "text": [
      "--------- ROUND: 1 COLLISIONS: 0.0% LOSSES: 0.0% -----------\n",
      "--------- ROUND: 2 COLLISIONS: 0.0% LOSSES: 0.0% -----------\n",
      "--------- ROUND: 3 COLLISIONS: 0.0% LOSSES: 0.0% -----------\n",
      "--------- ROUND: 4 COLLISIONS: 0.0% LOSSES: 0.0% -----------\n",
      "--------- ROUND: 5 COLLISIONS: 0.0% LOSSES: 0.0% -----------\n",
      "--------- ROUND: 6 COLLISIONS: 0.0% LOSSES: 0.0% -----------\n",
      "--------- ROUND: 7 COLLISIONS: 0.0% LOSSES: 0.0% -----------\n",
      "--------- ROUND: 8 COLLISIONS: 0.0% LOSSES: 0.0% -----------\n"
     ]
    }
   ],
   "source": [
    "## test loop\n",
    "\n",
    "epochs = 15000\n",
    "\n",
    "collisions = 0\n",
    "losses = 0\n",
    "total = 0\n",
    "#total = 0\n",
    "#rando = 0\n",
    "k = 15\n",
    "last = 0\n",
    "x = [rand(rng, 25:150), rand(rng,0:359), rand(rng,0:11)*30, 1, 1];     \n",
    "b = ParticleCollection([x[1:4] for i in 1:N]);     \n",
    "ξ = sparse(weighted_grid_2(b)/N)\n",
    "uu = next_action([transpose(θ[:,j])*ξ for j in 1:size(θ)[2]], 0, rng)\n",
    "u = uu[1]\n",
    "\n",
    "for i in 1:(epochsize*epochs)\n",
    "    counter += 1\n",
    "    \n",
    "    last = transpose(θ[:,u])*ξ\n",
    "    \n",
    "    # choose next action\n",
    "    uu = next_action([transpose(θ[:,j])*ξ for j in 1:size(θ)[2]], 0, rng)\n",
    "    u = uu[3]\n",
    "    \n",
    "    #observe new state and reward\n",
    "    xp = f2(x, actions_[u], rng)\n",
    "    y = h(xp, rng)\n",
    "    b = update(pfilter, b, actions_[u], y)\n",
    "    #rew = r(Tuple(xp))\n",
    "       \n",
    "    ξ = sparse(weighted_grid_2(b)/N)\n",
    "     \n",
    "    #total += rew\n",
    "        \n",
    "    #cur = (rew + γ * max2([transpose(θ[:,j])*ξ for j in 1:size(θ)[2]], rng))\n",
    "    \n",
    "    #argmax state-action pair, not realized state-action pair?\n",
    "    #cur = transpose(θ[:,a_star])*ξ\n",
    "    \n",
    "    #δ = rew + γ * cur - last\n",
    "    \n",
    "    #θ += α * δ * e\n",
    "    #if uu[2] == 0\n",
    "    #e *= γ * λ\n",
    "    #else\n",
    "    #    e = sparse(zeros(length(grid),6))\n",
    "    #end\n",
    "    \n",
    "    \n",
    "    \n",
    "    if (counter % epochsize == 0) || (xp[1] <= 10)\n",
    "        total += 1\n",
    "        if xp[1] <= 10 collisions += 1 end\n",
    "        if xp[1] > 150 losses += 1 end\n",
    "        println(\"--------- ROUND: \", total, \" COLLISIONS: \", collisions/total, \n",
    "            \"% LOSSES: \", losses/total, \"% -----------\")\n",
    "        xp = [rand(rng, 25:150), rand(rng,0:359), rand(rng,0:11)*30, rand(rng, [1,2]), 1];\n",
    "        b = ParticleCollection([xp[1:4] for i in 1:N]);\n",
    "        ξ = sparse(weighted_grid_2(b)/N)       \n",
    "    end\n",
    "   \n",
    "    x = xp\n",
    "    \n",
    "    \n",
    "    #plotting\n",
    "    #r_ = [row[1] for row in particles(b)]\n",
    "    #theta = [row[2] for row in particles(b)]*π/180\n",
    "    #x_theta = x[2]*π/180\n",
    "    #x_r = x[1 ]\n",
    "    \n",
    "    #print(\".\")\n",
    "    #plt = plot(proj=:polar, lims=(0,200), size=(1000,1000))\n",
    "    #scatter!(theta, r_, markersize=1, label=\"particles\")\n",
    "    #scatter!([x_theta], [x_r], markersize=3, label=\"target\")\n",
    "          \n",
    "    #push!(plots, plt)\n",
    "    \n",
    "end\n"
   ]
  },
  {
   "cell_type": "code",
   "execution_count": 54,
   "metadata": {},
   "outputs": [
    {
     "data": {
      "text/plain": [
       "2150"
      ]
     },
     "execution_count": 54,
     "metadata": {},
     "output_type": "execute_result"
    }
   ],
   "source": [
    "epochsize"
   ]
  },
  {
   "cell_type": "code",
   "execution_count": 53,
   "metadata": {
    "scrolled": true
   },
   "outputs": [
    {
     "data": {
      "image/svg+xml": [
       "<?xml version=\"1.0\" encoding=\"utf-8\"?>\n",
       "<svg xmlns=\"http://www.w3.org/2000/svg\" xmlns:xlink=\"http://www.w3.org/1999/xlink\" width=\"600\" height=\"400\" viewBox=\"0 0 2400 1600\">\n",
       "<defs>\n",
       "  <clipPath id=\"clip5300\">\n",
       "    <rect x=\"0\" y=\"0\" width=\"2400\" height=\"1600\"/>\n",
       "  </clipPath>\n",
       "</defs>\n",
       "<path clip-path=\"url(#clip5300)\" d=\"\n",
       "M0 1600 L2400 1600 L2400 0 L0 0  Z\n",
       "  \" fill=\"#ffffff\" fill-rule=\"evenodd\" fill-opacity=\"1\"/>\n",
       "<defs>\n",
       "  <clipPath id=\"clip5301\">\n",
       "    <rect x=\"480\" y=\"0\" width=\"1681\" height=\"1600\"/>\n",
       "  </clipPath>\n",
       "</defs>\n",
       "<path clip-path=\"url(#clip5300)\" d=\"\n",
       "M168.627 1487.47 L2352.76 1487.47 L2352.76 47.2441 L168.627 47.2441  Z\n",
       "  \" fill=\"#ffffff\" fill-rule=\"evenodd\" fill-opacity=\"1\"/>\n",
       "<defs>\n",
       "  <clipPath id=\"clip5302\">\n",
       "    <rect x=\"168\" y=\"47\" width=\"2185\" height=\"1441\"/>\n",
       "  </clipPath>\n",
       "</defs>\n",
       "<polyline clip-path=\"url(#clip5302)\" style=\"stroke:#000000; stroke-width:2; stroke-opacity:0.1; fill:none\" points=\"\n",
       "  230.442,1487.47 230.442,47.2441 \n",
       "  \"/>\n",
       "<polyline clip-path=\"url(#clip5302)\" style=\"stroke:#000000; stroke-width:2; stroke-opacity:0.1; fill:none\" points=\"\n",
       "  745.567,1487.47 745.567,47.2441 \n",
       "  \"/>\n",
       "<polyline clip-path=\"url(#clip5302)\" style=\"stroke:#000000; stroke-width:2; stroke-opacity:0.1; fill:none\" points=\"\n",
       "  1260.69,1487.47 1260.69,47.2441 \n",
       "  \"/>\n",
       "<polyline clip-path=\"url(#clip5302)\" style=\"stroke:#000000; stroke-width:2; stroke-opacity:0.1; fill:none\" points=\"\n",
       "  1775.82,1487.47 1775.82,47.2441 \n",
       "  \"/>\n",
       "<polyline clip-path=\"url(#clip5302)\" style=\"stroke:#000000; stroke-width:2; stroke-opacity:0.1; fill:none\" points=\"\n",
       "  2290.94,1487.47 2290.94,47.2441 \n",
       "  \"/>\n",
       "<polyline clip-path=\"url(#clip5302)\" style=\"stroke:#000000; stroke-width:2; stroke-opacity:0.1; fill:none\" points=\"\n",
       "  168.627,1487.47 2352.76,1487.47 \n",
       "  \"/>\n",
       "<polyline clip-path=\"url(#clip5302)\" style=\"stroke:#000000; stroke-width:2; stroke-opacity:0.1; fill:none\" points=\"\n",
       "  168.627,1127.42 2352.76,1127.42 \n",
       "  \"/>\n",
       "<polyline clip-path=\"url(#clip5302)\" style=\"stroke:#000000; stroke-width:2; stroke-opacity:0.1; fill:none\" points=\"\n",
       "  168.627,767.359 2352.76,767.359 \n",
       "  \"/>\n",
       "<polyline clip-path=\"url(#clip5302)\" style=\"stroke:#000000; stroke-width:2; stroke-opacity:0.1; fill:none\" points=\"\n",
       "  168.627,407.302 2352.76,407.302 \n",
       "  \"/>\n",
       "<polyline clip-path=\"url(#clip5302)\" style=\"stroke:#000000; stroke-width:2; stroke-opacity:0.1; fill:none\" points=\"\n",
       "  168.627,47.2441 2352.76,47.2441 \n",
       "  \"/>\n",
       "<polyline clip-path=\"url(#clip5300)\" style=\"stroke:#000000; stroke-width:4; stroke-opacity:1; fill:none\" points=\"\n",
       "  168.627,1487.47 2352.76,1487.47 \n",
       "  \"/>\n",
       "<polyline clip-path=\"url(#clip5300)\" style=\"stroke:#000000; stroke-width:4; stroke-opacity:1; fill:none\" points=\"\n",
       "  168.627,1487.47 168.627,47.2441 \n",
       "  \"/>\n",
       "<polyline clip-path=\"url(#clip5300)\" style=\"stroke:#000000; stroke-width:4; stroke-opacity:1; fill:none\" points=\"\n",
       "  230.442,1487.47 230.442,1465.87 \n",
       "  \"/>\n",
       "<polyline clip-path=\"url(#clip5300)\" style=\"stroke:#000000; stroke-width:4; stroke-opacity:1; fill:none\" points=\"\n",
       "  745.567,1487.47 745.567,1465.87 \n",
       "  \"/>\n",
       "<polyline clip-path=\"url(#clip5300)\" style=\"stroke:#000000; stroke-width:4; stroke-opacity:1; fill:none\" points=\"\n",
       "  1260.69,1487.47 1260.69,1465.87 \n",
       "  \"/>\n",
       "<polyline clip-path=\"url(#clip5300)\" style=\"stroke:#000000; stroke-width:4; stroke-opacity:1; fill:none\" points=\"\n",
       "  1775.82,1487.47 1775.82,1465.87 \n",
       "  \"/>\n",
       "<polyline clip-path=\"url(#clip5300)\" style=\"stroke:#000000; stroke-width:4; stroke-opacity:1; fill:none\" points=\"\n",
       "  2290.94,1487.47 2290.94,1465.87 \n",
       "  \"/>\n",
       "<polyline clip-path=\"url(#clip5300)\" style=\"stroke:#000000; stroke-width:4; stroke-opacity:1; fill:none\" points=\"\n",
       "  168.627,1487.47 201.389,1487.47 \n",
       "  \"/>\n",
       "<polyline clip-path=\"url(#clip5300)\" style=\"stroke:#000000; stroke-width:4; stroke-opacity:1; fill:none\" points=\"\n",
       "  168.627,1127.42 201.389,1127.42 \n",
       "  \"/>\n",
       "<polyline clip-path=\"url(#clip5300)\" style=\"stroke:#000000; stroke-width:4; stroke-opacity:1; fill:none\" points=\"\n",
       "  168.627,767.359 201.389,767.359 \n",
       "  \"/>\n",
       "<polyline clip-path=\"url(#clip5300)\" style=\"stroke:#000000; stroke-width:4; stroke-opacity:1; fill:none\" points=\"\n",
       "  168.627,407.302 201.389,407.302 \n",
       "  \"/>\n",
       "<polyline clip-path=\"url(#clip5300)\" style=\"stroke:#000000; stroke-width:4; stroke-opacity:1; fill:none\" points=\"\n",
       "  168.627,47.2441 201.389,47.2441 \n",
       "  \"/>\n",
       "<g clip-path=\"url(#clip5300)\">\n",
       "<text style=\"fill:#000000; fill-opacity:1; font-family:Arial,Helvetica Neue,Helvetica,sans-serif; font-size:48px; text-anchor:middle;\" transform=\"rotate(0, 230.442, 1541.47)\" x=\"230.442\" y=\"1541.47\">1.00</text>\n",
       "</g>\n",
       "<g clip-path=\"url(#clip5300)\">\n",
       "<text style=\"fill:#000000; fill-opacity:1; font-family:Arial,Helvetica Neue,Helvetica,sans-serif; font-size:48px; text-anchor:middle;\" transform=\"rotate(0, 745.567, 1541.47)\" x=\"745.567\" y=\"1541.47\">1.25</text>\n",
       "</g>\n",
       "<g clip-path=\"url(#clip5300)\">\n",
       "<text style=\"fill:#000000; fill-opacity:1; font-family:Arial,Helvetica Neue,Helvetica,sans-serif; font-size:48px; text-anchor:middle;\" transform=\"rotate(0, 1260.69, 1541.47)\" x=\"1260.69\" y=\"1541.47\">1.50</text>\n",
       "</g>\n",
       "<g clip-path=\"url(#clip5300)\">\n",
       "<text style=\"fill:#000000; fill-opacity:1; font-family:Arial,Helvetica Neue,Helvetica,sans-serif; font-size:48px; text-anchor:middle;\" transform=\"rotate(0, 1775.82, 1541.47)\" x=\"1775.82\" y=\"1541.47\">1.75</text>\n",
       "</g>\n",
       "<g clip-path=\"url(#clip5300)\">\n",
       "<text style=\"fill:#000000; fill-opacity:1; font-family:Arial,Helvetica Neue,Helvetica,sans-serif; font-size:48px; text-anchor:middle;\" transform=\"rotate(0, 2290.94, 1541.47)\" x=\"2290.94\" y=\"1541.47\">2.00</text>\n",
       "</g>\n",
       "<g clip-path=\"url(#clip5300)\">\n",
       "<text style=\"fill:#000000; fill-opacity:1; font-family:Arial,Helvetica Neue,Helvetica,sans-serif; font-size:48px; text-anchor:end;\" transform=\"rotate(0, 144.627, 1504.97)\" x=\"144.627\" y=\"1504.97\">-50</text>\n",
       "</g>\n",
       "<g clip-path=\"url(#clip5300)\">\n",
       "<text style=\"fill:#000000; fill-opacity:1; font-family:Arial,Helvetica Neue,Helvetica,sans-serif; font-size:48px; text-anchor:end;\" transform=\"rotate(0, 144.627, 1144.92)\" x=\"144.627\" y=\"1144.92\">-25</text>\n",
       "</g>\n",
       "<g clip-path=\"url(#clip5300)\">\n",
       "<text style=\"fill:#000000; fill-opacity:1; font-family:Arial,Helvetica Neue,Helvetica,sans-serif; font-size:48px; text-anchor:end;\" transform=\"rotate(0, 144.627, 784.859)\" x=\"144.627\" y=\"784.859\">0</text>\n",
       "</g>\n",
       "<g clip-path=\"url(#clip5300)\">\n",
       "<text style=\"fill:#000000; fill-opacity:1; font-family:Arial,Helvetica Neue,Helvetica,sans-serif; font-size:48px; text-anchor:end;\" transform=\"rotate(0, 144.627, 424.802)\" x=\"144.627\" y=\"424.802\">25</text>\n",
       "</g>\n",
       "<g clip-path=\"url(#clip5300)\">\n",
       "<text style=\"fill:#000000; fill-opacity:1; font-family:Arial,Helvetica Neue,Helvetica,sans-serif; font-size:48px; text-anchor:end;\" transform=\"rotate(0, 144.627, 64.7441)\" x=\"144.627\" y=\"64.7441\">50</text>\n",
       "</g>\n",
       "<polyline clip-path=\"url(#clip5302)\" style=\"stroke:#009af9; stroke-width:4; stroke-opacity:1; fill:none\" points=\"\n",
       "  230.442,767.359 2290.94,407.302 \n",
       "  \"/>\n",
       "<path clip-path=\"url(#clip5300)\" d=\"\n",
       "M1989.93 251.724 L2280.76 251.724 L2280.76 130.764 L1989.93 130.764  Z\n",
       "  \" fill=\"#ffffff\" fill-rule=\"evenodd\" fill-opacity=\"1\"/>\n",
       "<polyline clip-path=\"url(#clip5300)\" style=\"stroke:#000000; stroke-width:4; stroke-opacity:1; fill:none\" points=\"\n",
       "  1989.93,251.724 2280.76,251.724 2280.76,130.764 1989.93,130.764 1989.93,251.724 \n",
       "  \"/>\n",
       "<polyline clip-path=\"url(#clip5300)\" style=\"stroke:#009af9; stroke-width:4; stroke-opacity:1; fill:none\" points=\"\n",
       "  2013.93,191.244 2157.93,191.244 \n",
       "  \"/>\n",
       "<g clip-path=\"url(#clip5300)\">\n",
       "<text style=\"fill:#000000; fill-opacity:1; font-family:Arial,Helvetica Neue,Helvetica,sans-serif; font-size:48px; text-anchor:start;\" transform=\"rotate(0, 2181.93, 208.744)\" x=\"2181.93\" y=\"208.744\">y1</text>\n",
       "</g>\n",
       "</svg>\n"
      ]
     },
     "execution_count": 53,
     "metadata": {},
     "output_type": "execute_result"
    }
   ],
   "source": [
    "xx = []\n",
    "yy = []\n",
    "yyy = []\n",
    "for (i, t) in enumerate(totals)\n",
    "    push!(xx, i)\n",
    "    push!(yy, t)\n",
    "    push!(yyy, mean(yy))\n",
    "end\n",
    "\n",
    "plot(xx, yyy, ylims = (-50,50))"
   ]
  },
  {
   "cell_type": "code",
   "execution_count": 10,
   "metadata": {},
   "outputs": [
    {
     "data": {
      "text/plain": [
       "30420×6 Array{Float64,2}:\n",
       "  -4.05719   0.0         -12.7585    0.0           -5.40401   0.0        \n",
       " -14.1363    0.0         -13.7421    0.0           -8.10245   0.0        \n",
       " -10.3976    0.0         -10.766     0.0341359    -10.7977    0.0        \n",
       "  -2.55388   0.0         -18.6888    0.0183138     -9.52957   0.0        \n",
       "  -1.0819    0.0157158    -0.916452  0.00300404    -0.331465  0.0        \n",
       "   0.855674  0.00673533    5.65503   0.0            0.654088  0.0        \n",
       "   1.16456   0.0          11.4057    0.00685856     0.607544  0.0        \n",
       "   1.58071   0.0247135     3.96063   0.000762062    0.405348  0.000318762\n",
       "   4.4065    0.0255353     0.472534  0.0            0.411339  0.0040335  \n",
       "   5.23843   0.00871109    0.426326  0.0            0.405973  0.000776428\n",
       "   5.00093   0.018768      0.61746   0.0            0.590034  0.0        \n",
       "   4.63067   0.0385562     0.547618  0.0            0.593071  0.0        \n",
       "   6.30795   0.00124996    0.443488  0.0            0.594687  0.0        \n",
       "   ⋮                                                          ⋮          \n",
       "   0.0       0.0           0.0       0.0            0.0       0.0        \n",
       "   0.0       0.0           0.0       0.0            0.0       0.0        \n",
       "   0.0       0.0           0.0       0.0            0.0       0.0        \n",
       "   0.0       0.0           0.0       0.0            0.0       0.0        \n",
       "   0.0       0.0           0.0       0.0            0.0       0.0        \n",
       "   0.0       0.0           0.0       0.0            0.0       0.0        \n",
       "   0.0       0.0           0.0       0.0            0.0       0.0        \n",
       "   0.0       0.0           0.0       0.0            0.0       0.0        \n",
       "   0.0       0.0           0.0       0.0            0.0       0.0        \n",
       "   0.0       0.0           0.0       0.0            0.0       0.0        \n",
       "   0.0       0.0           0.0       0.0            0.0       0.0        \n",
       "   0.0       0.0           0.0       0.0            0.0       0.0        "
      ]
     },
     "execution_count": 10,
     "metadata": {},
     "output_type": "execute_result"
    }
   ],
   "source": [
    "θ = convert(Matrix, CSV.read(\"0.473_final.csv\"))\n"
   ]
  },
  {
   "cell_type": "code",
   "execution_count": 17,
   "metadata": {},
   "outputs": [],
   "source": [
    "#θ = convert(Matrix, thetaframe)"
   ]
  },
  {
   "cell_type": "code",
   "execution_count": 57,
   "metadata": {},
   "outputs": [
    {
     "data": {
      "text/plain": [
       "\"0.473_final.csv\""
      ]
     },
     "execution_count": 57,
     "metadata": {},
     "output_type": "execute_result"
    }
   ],
   "source": [
    "thetaframe = DataFrame(θ)\n",
    "CSV.write(\"0.473_final.csv\", thetaframe)"
   ]
  },
  {
   "cell_type": "code",
   "execution_count": 51,
   "metadata": {},
   "outputs": [
    {
     "data": {
      "text/plain": [
       "3.5612535612535624e-5"
      ]
     },
     "execution_count": 51,
     "metadata": {},
     "output_type": "execute_result"
    }
   ],
   "source": [
    "b = ParticleCollection([[20, 60, 90, 1] for i in 1:N]);\n",
    "ξ = weighted_grid_2(b)/N\n",
    "var(ξ)\n"
   ]
  },
  {
   "cell_type": "code",
   "execution_count": null,
   "metadata": {},
   "outputs": [],
   "source": []
  },
  {
   "cell_type": "code",
   "execution_count": null,
   "metadata": {},
   "outputs": [],
   "source": []
  }
 ],
 "metadata": {
  "kernelspec": {
   "display_name": "Julia 1.3.0",
   "language": "julia",
   "name": "julia-1.3"
  },
  "language_info": {
   "file_extension": ".jl",
   "mimetype": "application/julia",
   "name": "julia",
   "version": "1.3.0"
  }
 },
 "nbformat": 4,
 "nbformat_minor": 2
}
