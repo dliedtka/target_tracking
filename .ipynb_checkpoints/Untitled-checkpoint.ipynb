{
 "cells": [
  {
   "cell_type": "code",
   "execution_count": 93,
   "metadata": {},
   "outputs": [],
   "source": [
    "using Plots\n",
    "using ParticleFilters\n",
    "using Distributions\n",
    "using StaticArrays\n",
    "using LinearAlgebra\n",
    "using Random\n",
    "using StatsBase\n",
    "using Reel\n",
    "using SparseArrays\n",
    "using GridInterpolations\n",
    "using DataStructures\n",
    "using DataFrames\n",
    "using CSV\n",
    "using Distributed"
   ]
  },
  {
   "cell_type": "code",
   "execution_count": 3,
   "metadata": {},
   "outputs": [],
   "source": [
    "include(\"atan2.jl\")\n",
    "include(\"obs_rel.jl\")\n",
    "include(\"polargrid_rel_qual2.jl\")\n",
    "rng = MersenneTwister(2);\n"
   ]
  },
  {
   "cell_type": "code",
   "execution_count": 116,
   "metadata": {},
   "outputs": [
    {
     "name": "stdout",
     "output_type": "stream",
     "text": [
      "((polar_grid([110, 30, 30, 1, 1]))[1])[1] = 10571\n"
     ]
    }
   ],
   "source": [
    "#θ = convert(Matrix, CSV.read(\"0.473_final.csv\"))\n",
    "\n",
    "#ind2x(grid, 150)\n",
    "\n",
    "@show polar_grid([110, 30, 30, 1, 1])[1][1]\n",
    "[i for i in thestates[1]]\n",
    "thestates2 = [[10.0*r,θ*30.0, crs*30.0, spd, qual] for r in 1:30, \n",
    "        θ in 0:11, crs in 0:11, spd in 1:2, qual in [0, 1, 10]]\n",
    "\n",
    "thestates3 = [[10.0*r,θ*30.0, 0, 1, 1] for r in 1:30, \n",
    "        θ in 0:11]\n",
    "\n",
    "r_vec = [[] for i in 1:6]\n",
    "θ_vec = [[] for i in 1:6]\n",
    "for i in 1:360\n",
    "    j = argmax(θ[i,:])\n",
    "    push!(r_vec[j], thestates3[i][1])\n",
    "    push!(θ_vec[j], π/180*thestates3[i][2])\n",
    "end\n"
   ]
  },
  {
   "cell_type": "code",
   "execution_count": 78,
   "metadata": {},
   "outputs": [
    {
     "data": {
      "text/plain": [
       "2"
      ]
     },
     "execution_count": 78,
     "metadata": {},
     "output_type": "execute_result"
    }
   ],
   "source": [
    "argmax(θ[1,:])"
   ]
  },
  {
   "cell_type": "code",
   "execution_count": 133,
   "metadata": {},
   "outputs": [],
   "source": [
    "plots = []\n",
    "for spd in 1:2\n",
    "    for crs in 0:11\n",
    "        for k in [0, 1, 10]\n",
    "            thestates3 = [[10.0*r,θ*30.0, 30*crs, spd, k] for r in 1:30, \n",
    "                    θ in 0:11]\n",
    "            r_vec = [[] for i in 1:6]\n",
    "            θ_vec = [[] for i in 1:6]\n",
    "            for i in 1:360\n",
    "                j = argmax(θ[polar_grid(thestates3[i])[1][1],:])\n",
    "                push!(r_vec[j], thestates3[i][1])\n",
    "                push!(θ_vec[j], π/180*thestates3[i][2])\n",
    "            end\n",
    "            confidence = \"false\"\n",
    "            if k == 0 confidence = \"Low\" end    \n",
    "            if k == 1 confidence = \"Medium\" end\n",
    "            if k == 10 confidence = \"High\" end\n",
    "            titlestring = string(\"Course: \", 30*crs, \" Speed: \", spd, \" Confidence: \", confidence)\n",
    "            plt = plot(proj=:polar, lims=(0,180), size=(800,800))\n",
    "            scatter!(θ_vec[1], r_vec[1], markersize=5, label=false, color=\"red\", legend=false) \n",
    "            scatter!(θ_vec[2], r_vec[2], markersize=5, label=false, color=\"blue\", legend=false)\n",
    "            scatter!(θ_vec[3], r_vec[3], markersize=5, label=false, color=\"green\", legend=false)\n",
    "            scatter!(θ_vec[4], r_vec[4], markersize=5, label=false, color=\"dark red\", legend=false)\n",
    "            scatter!(θ_vec[5], r_vec[5], markersize=5, label=false, color=\"dark blue\", legend=false)\n",
    "            scatter!(θ_vec[6], r_vec[6], markersize=5, label=false, color=\"dark green\", legend=false)\n",
    "            push!(plots, plt)\n",
    "        end\n",
    "    end\n",
    "end\n",
    "savefig(plots[12], \"heat.png\")"
   ]
  },
  {
   "cell_type": "code",
   "execution_count": 131,
   "metadata": {},
   "outputs": [
    {
     "name": "stdout",
     "output_type": "stream",
     "text": [
      "...................................."
     ]
    },
    {
     "data": {
      "text/plain": [
       "\"output.gif\""
      ]
     },
     "execution_count": 131,
     "metadata": {},
     "output_type": "execute_result"
    }
   ],
   "source": [
    "frames = Frames(MIME(\"image/png\"), fps=0.5)\n",
    "count = 0\n",
    "for plt in plots\n",
    "    if count % 2 == 0\n",
    "        print(\".\")\n",
    "        push!(frames, plt)\n",
    "    end\n",
    "    count += 1\n",
    "end\n",
    "write(\"output.gif\", frames)"
   ]
  }
 ],
 "metadata": {
  "kernelspec": {
   "display_name": "Julia 1.3.0",
   "language": "julia",
   "name": "julia-1.3"
  },
  "language_info": {
   "file_extension": ".jl",
   "mimetype": "application/julia",
   "name": "julia",
   "version": "1.3.0"
  }
 },
 "nbformat": 4,
 "nbformat_minor": 2
}
