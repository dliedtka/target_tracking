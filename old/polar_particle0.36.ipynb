{
 "cells": [
  {
   "cell_type": "code",
   "execution_count": 1,
   "metadata": {},
   "outputs": [],
   "source": [
    "using Plots\n",
    "using ParticleFilters\n",
    "using Distributions\n",
    "using StaticArrays\n",
    "using LinearAlgebra\n",
    "using Random\n",
    "using StatsBase\n",
    "using Reel"
   ]
  },
  {
   "cell_type": "code",
   "execution_count": 68,
   "metadata": {},
   "outputs": [],
   "source": [
    "include(\"atan2.jl\")\n",
    "include(\"obs.jl\")\n",
    "rng = MersenneTwister(2);\n"
   ]
  },
  {
   "cell_type": "code",
   "execution_count": 3,
   "metadata": {},
   "outputs": [],
   "source": [
    "const ANGLES = [30, 30, 30, 30, 60, 90, 120];"
   ]
  },
  {
   "cell_type": "code",
   "execution_count": 123,
   "metadata": {},
   "outputs": [],
   "source": [
    "# random walk\n",
    "\n",
    "POS_0 = [5.0, 45.0]\n",
    "CRS_0 = 90 # target's course\n",
    "HDG_0 = 90 # o/s heading\n",
    "\n",
    "\n",
    "#input is course in degrees and rng\n",
    "#returns next course in degrees\n",
    "function next_crs(crs,rng)\n",
    "    if rand(rng) < .9\n",
    "        return crs\n",
    "    end\n",
    "    return (crs + rand(rng,[-1,1])*rand(rng, ANGLES)) % 360\n",
    "end\n",
    "\n",
    "# state as tuple (r, θ, crs, hdg) of target (hdg of o/s)\n",
    "function f(state, control, rng)\n",
    "    r, θ, crs, hdg = state\n",
    "    x = r*cos(π/180*θ)\n",
    "    y = r*sin(π/180*θ)\n",
    "    pos = [x + cos(π/180*crs) - cos(π/180*hdg), y + sin(π/180*crs) - sin(π/180*hdg)]\n",
    "    crs = next_crs(crs,rng)\n",
    "    hdg = control\n",
    "    r = sqrt(pos[1]^2 + pos[2]^2)\n",
    "    θ = atan2(pos[1],pos[2])*180/π\n",
    "    if θ < 0 θ += 360 end\n",
    "    return [r, θ, crs, hdg]\n",
    "end\n",
    "\n",
    "\n",
    "# likelihood weight of observation \"o\" given x, a, xp\n",
    "\n",
    "\n",
    "x = []\n",
    "courses = []\n",
    "observations = []\n",
    "crs = CRS_0\n",
    "pos = POS_0\n",
    "hdg = HDG_0\n",
    "for i in 1:100\n",
    "    state = f((pos[1], pos[2], crs, hdg),0,rng)\n",
    "    pos[1], pos[2], crs, hdg = state\n",
    "    θ = state[2]\n",
    "    r = state[1]\n",
    "    if θ < 0 θ += 360 end\n",
    "    #push!(x,(pos[1],pos[2]))\n",
    "    push!(courses,crs)\n",
    "    push!(observations,(r, θ, obs0(state), obs1(state), obs2(state), obs3(state)))\n",
    "end\n"
   ]
  },
  {
   "cell_type": "code",
   "execution_count": 124,
   "metadata": {},
   "outputs": [],
   "source": [
    "\n",
    "for i in observations\n",
    "    #println(i)\n",
    "end\n"
   ]
  },
  {
   "cell_type": "code",
   "execution_count": 125,
   "metadata": {},
   "outputs": [],
   "source": [
    "model = ParticleFilterModel{Vector{Float64}}(f, g)\n",
    "\n",
    "N = 1000\n",
    "filter = SIRParticleFilter(model, N);\n",
    "\n"
   ]
  },
  {
   "cell_type": "code",
   "execution_count": null,
   "metadata": {},
   "outputs": [],
   "source": []
  },
  {
   "cell_type": "code",
   "execution_count": 128,
   "metadata": {},
   "outputs": [
    {
     "name": "stdout",
     "output_type": "stream",
     "text": [
      "........................................................................................................................................................................................................"
     ]
    }
   ],
   "source": [
    "b = ParticleCollection([[5, 60, 90, 90] for i in 1:N])\n",
    "x = [5, 60, 90, 90];\n",
    "plots = []\n",
    "\n",
    "for i in 1:200\n",
    "    print(\".\")\n",
    "    if i % 10 == 0\n",
    "        u = 120 * (i % 3)\n",
    "    else\n",
    "        u = x[4]\n",
    "    end\n",
    "    x = f(x, u, rng)\n",
    "    y = h(x, rng)\n",
    "    b = update(filter, b, u, y)\n",
    "    \n",
    "    r = [row[1] for row in particles(b)]\n",
    "    theta = [row[2] for row in particles(b)]*π/180\n",
    "    x_theta = x[2]*π/180\n",
    "    x_r = x[1]\n",
    "    \n",
    "    \n",
    "    plt = plot(proj=:polar, lims=(0,100), size=(1000,1000))\n",
    "    scatter!(theta, r, markersize=1, label=\"particles\")\n",
    "    scatter!([x_theta], [x_r], markersize=3, label=\"target\")\n",
    "          \n",
    "    #plt = scatter([p[1] for p in particles(b)], [p[2] for p in particles(b)], color=\"black\")\n",
    "    #scatter!(plt, [x[1]], [x[2]], color=:blue, xlim=(-100,100), ylim=(-100,100), label=\"\")\n",
    "    push!(plots, plt)    \n",
    "end"
   ]
  },
  {
   "cell_type": "code",
   "execution_count": 121,
   "metadata": {},
   "outputs": [],
   "source": [
    "#plots[97]"
   ]
  },
  {
   "cell_type": "code",
   "execution_count": 129,
   "metadata": {},
   "outputs": [
    {
     "name": "stdout",
     "output_type": "stream",
     "text": [
      "...................................................................................................."
     ]
    },
    {
     "data": {
      "text/plain": [
       "\"output.gif\""
      ]
     },
     "execution_count": 129,
     "metadata": {},
     "output_type": "execute_result"
    }
   ],
   "source": [
    "frames = Frames(MIME(\"image/png\"), fps=10)\n",
    "count = 0\n",
    "for plt in plots\n",
    "    if count % 2 == 0\n",
    "        print(\".\")\n",
    "        push!(frames, plt)\n",
    "    end\n",
    "    count += 1\n",
    "end\n",
    "write(\"output.gif\", frames)"
   ]
  },
  {
   "cell_type": "code",
   "execution_count": null,
   "metadata": {},
   "outputs": [],
   "source": [
    "\n"
   ]
  },
  {
   "cell_type": "code",
   "execution_count": null,
   "metadata": {},
   "outputs": [],
   "source": []
  }
 ],
 "metadata": {
  "kernelspec": {
   "display_name": "Julia 1.2.0",
   "language": "julia",
   "name": "julia-1.2"
  },
  "language_info": {
   "file_extension": ".jl",
   "mimetype": "application/julia",
   "name": "julia",
   "version": "1.2.0"
  }
 },
 "nbformat": 4,
 "nbformat_minor": 2
}
