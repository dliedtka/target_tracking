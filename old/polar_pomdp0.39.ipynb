{
 "cells": [
  {
   "cell_type": "code",
   "execution_count": 1,
   "metadata": {},
   "outputs": [],
   "source": [
    "using Plots\n",
    "using ParticleFilters\n",
    "using Distributions\n",
    "using StaticArrays\n",
    "using LinearAlgebra\n",
    "using Random\n",
    "using StatsBase\n",
    "using Reel\n",
    "using POMDPs\n",
    "using POMDPSimulators\n",
    "using POMDPPolicies\n",
    "using POMDPModelTools\n",
    "using GridInterpolations\n",
    "using RLInterface"
   ]
  },
  {
   "cell_type": "code",
   "execution_count": null,
   "metadata": {},
   "outputs": [],
   "source": [
    "\n"
   ]
  },
  {
   "cell_type": "code",
   "execution_count": 284,
   "metadata": {},
   "outputs": [],
   "source": [
    "include(\"atan2.jl\")\n",
    "include(\"obs.jl\")\n",
    "include(\"polargrid.jl\")\n",
    "rng = MersenneTwister(2);\n"
   ]
  },
  {
   "cell_type": "code",
   "execution_count": null,
   "metadata": {},
   "outputs": [],
   "source": [
    "\n",
    "\n",
    "\n"
   ]
  },
  {
   "cell_type": "code",
   "execution_count": 285,
   "metadata": {},
   "outputs": [],
   "source": [
    "# random walk\n",
    "\n",
    "POS_0 = [6.0, 60.0]\n",
    "CRS_0 = 90 # target's course\n",
    "HDG_0 = 90 # o/s heading\n",
    "SPD_0 = 1 # 1 or 2\n",
    "TGT_SPD = 1\n",
    "\n",
    "#input is course in degrees and rng\n",
    "#returns next course in degrees\n",
    "function next_crs(crs,rng)\n",
    "    if rand(rng) < .9\n",
    "        return crs\n",
    "    end\n",
    "    crs = (crs + rand(rng,[-1,1])*30) % 360\n",
    "    if crs < 0 crs += 360 end\n",
    "    return crs\n",
    "end\n",
    "\n",
    "# state as tuple (x, y, crs, hdg) of target (hdg of o/s)\n",
    "function f(state, control, rng)\n",
    "    r, θ, crs, hdg, spd = state\n",
    "    x = r*cos(π/180*θ)\n",
    "    y = r*sin(π/180*θ)\n",
    "    pos = [x + TGT_SPD*cos(π/180*crs) - spd*cos(π/180*hdg), y + \n",
    "        TGT_SPD*sin(π/180*crs) - spd*sin(π/180*hdg)]\n",
    "    crs = next_crs(crs,rng)\n",
    "    hdg = hdg + control[1]\n",
    "    hdg = hdg % 360\n",
    "    if hdg < 0\n",
    "        hdg += 360\n",
    "    end\n",
    "    spd = control[2]\n",
    "    r = sqrt(pos[1]^2 + pos[2]^2)\n",
    "    θ = atan2(pos[1],pos[2])*180/π\n",
    "    #if trunc(Int, atan2(pos[1],pos[2])*180/π) == 0\n",
    "    #    @show pos\n",
    "    #end\n",
    "    if θ < 0 θ += 360 end\n",
    "    return (r, θ, crs, hdg, spd)::NTuple{5, Real}\n",
    "end\n"
   ]
  },
  {
   "cell_type": "code",
   "execution_count": null,
   "metadata": {},
   "outputs": [],
   "source": []
  },
  {
   "cell_type": "code",
   "execution_count": 286,
   "metadata": {},
   "outputs": [
    {
     "data": {
      "text/plain": [
       "r (generic function with 1 method)"
      ]
     },
     "execution_count": 286,
     "metadata": {},
     "output_type": "execute_result"
    }
   ],
   "source": [
    "function r(s::NTuple{5,Real})\n",
    "    range = s[1]\n",
    "    if range > 150 return -1 end  # reward to not lose track of contact\n",
    "    if range <= 5 return -10000 end  # collision avoidance\n",
    "    return 2  # being in \"sweet spot\" maximizes reward\n",
    "end"
   ]
  },
  {
   "cell_type": "code",
   "execution_count": null,
   "metadata": {},
   "outputs": [],
   "source": [
    "\n"
   ]
  },
  {
   "cell_type": "code",
   "execution_count": 5,
   "metadata": {},
   "outputs": [],
   "source": [
    "# implement POMDP here\n",
    "\n",
    "mutable struct targetPOMDP <: POMDP{NTuple{5,Real}, Tuple{Float64}, Int64}\n",
    "    p_walk::Float64\n",
    "    discount::Float64\n",
    "end\n",
    "angles = [0, 30, 60, 90, 120, 150, 210, 240, 270, 300, 330]\n",
    "#statespace = [(10.0*r,θ*30.0, crs*30.0, hdg*30.0, spd) for r in 0:30, θ in 0:11, crs in 1:12, hdg in 1:12, spd in 1:2]\n",
    "statespace = thestates\n",
    "actionspace = ((30,1), (0,1), (-30,1), (30, 2), (0,2), (-30,2))\n",
    "action_index(a) = trunc(Int, 2*(a[1]/30+1) + a[2])\n",
    "actions_ = ((-30,1), (-30, 2), (0, 1), (0, 2), (30, 1), (30, 2))\n",
    "\n",
    "targetPOMDP() = targetPOMDP(0.9, 0.9)\n",
    "POMDPs.actions(::targetPOMDP) = ((-30,1), (-30, 2), (0, 1), (0, 2), (30, 1), (30, 2))\n",
    "POMDPs.actionindex(::targetPOMDP, a) = trunc(Int, 2*(a[1]/30+1) + a[2])\n",
    "POMDPs.states(::targetPOMDP) = statespace\n",
    "POMDPs.stateindex(::targetPOMDP, s::NTuple{5,Real}) = LinearIndices(statespace)[s[1]/10, s[2]/30, s[3]/30, s[4]/30, s[5]]\n",
    "#POMDPs.stateindex(::targetPOMDP, s::NTuple{5,Int64}) = LinearIndices(statespace)[round(Int,s[1]/10)+1, round(Int,s[2]/30)+1,\n",
    "#    (round(Int,s[3]/30)+1, round(Int,s[4]/30)+1, round(Int,s[5])+1]\n",
    "POMDPs.observations(::targetPOMDP) = (0, 1, 2, 3)\n",
    "POMDPs.obsindex(::targetPOMDP, o::Int64) = o + 1\n",
    "POMDPs.initialobs(::targetPOMDP, s::NTuple{5,Real}, rng::AbstractRNG) = h(s,rng)\n",
    "POMDPs.initialstate_distribution(::targetPOMDP) = ParticleCollection([(5, 60, 90, 90, 1) for i in 1:N])\n",
    "POMDPs.initialstate(::targetPOMDP, rng::AbstractRNG) = (rand(rng,1:10), rand(rng, angles),\n",
    "    rand(rng, angles), rand(rng, angles), rand(rng,1:2))\n",
    "POMDPs.isterminal(::targetPOMDP, s) = s[1] >= 300\n",
    "POMDPs.discount(::targetPOMDP) = 0.9\n",
    "\n",
    "function POMDPs.gen(m::targetPOMDP, s, a, rng)\n",
    "    return (sp=f(s,a,rng), r=r(s), o=h(s,rng))\n",
    "end"
   ]
  },
  {
   "cell_type": "code",
   "execution_count": 251,
   "metadata": {},
   "outputs": [],
   "source": [
    "N = 1000\n",
    "pomdp = targetPOMDP(0.9, 0.9)\n",
    "#initialstate_distribution(pomdp) = ParticleCollection([[5, 60, 90, 90, 1] for i in 1:N])\n",
    "\n",
    "\n",
    "updater = SIRParticleFilter(pomdp, N);\n",
    "\n",
    "function f2(x, u, rng)\n",
    "    temp = [i for i in f(x, u, rng)]\n",
    "    if temp[1] > 500\n",
    "        temp[1] = 5\n",
    "    end\n",
    "    return temp\n",
    "end\n",
    "\n",
    "\n",
    "model = ParticleFilterModel{Vector{Float64}}(f2, g)\n",
    "pfilter = SIRParticleFilter(model, N);\n"
   ]
  },
  {
   "cell_type": "code",
   "execution_count": null,
   "metadata": {},
   "outputs": [],
   "source": []
  },
  {
   "cell_type": "code",
   "execution_count": 275,
   "metadata": {},
   "outputs": [
    {
     "data": {
      "text/plain": [
       "112320×6 Array{Int64,2}:\n",
       " -10000  -10000  -10000  -10000  -10000  -10000\n",
       "      1       1       1       1       1       1\n",
       "      1       1       1       1       1       1\n",
       "      1       1       1       1       1       1\n",
       "      1       1       1       1       1       1\n",
       "      1       1       1       1       1       1\n",
       "      1       1       1       1       1       1\n",
       "      1       1       1       1       1       1\n",
       "      1       1       1       1       1       1\n",
       "      1       1       1       1       1       1\n",
       "     -1      -1      -1      -1      -1      -1\n",
       "     -1      -1      -1      -1      -1      -1\n",
       "     -1      -1      -1      -1      -1      -1\n",
       "      ⋮                                       ⋮\n",
       "     -1      -1      -1      -1      -1      -1\n",
       "     -1      -1      -1      -1      -1      -1\n",
       "     -1      -1      -1      -1      -1      -1\n",
       "     -1      -1      -1      -1      -1      -1\n",
       "     -1      -1      -1      -1      -1      -1\n",
       "     -1      -1      -1      -1      -1      -1\n",
       "     -1      -1      -1      -1      -1      -1\n",
       "     -1      -1      -1      -1      -1      -1\n",
       "     -1      -1      -1      -1      -1      -1\n",
       "     -1      -1      -1      -1      -1      -1\n",
       "     -1      -1      -1      -1      -1      -1\n",
       "     -1      -1      -1      -1      -1      -1"
      ]
     },
     "execution_count": 275,
     "metadata": {},
     "output_type": "execute_result"
    }
   ],
   "source": [
    "\n",
    "#θ = zeros(length(grid),6);\n",
    "θ = [r(Tuple(ind2x(grid, j))) for j in 1:length(grid), i in 1:6]                    "
   ]
  },
  {
   "cell_type": "code",
   "execution_count": 281,
   "metadata": {},
   "outputs": [],
   "source": [
    "α = 0.5\n",
    "γ = 0.95\n",
    "ϵ = .2\n",
    "x = [15, 60, 90, 90, 1];\n",
    "b = ParticleCollection([[15, 60, 90, 90, 1] for i in 1:N]);\n"
   ]
  },
  {
   "cell_type": "code",
   "execution_count": 283,
   "metadata": {},
   "outputs": [
    {
     "name": "stdout",
     "output_type": "stream",
     "text": [
      "(xp, total) = (Real[145.5616292941981, 218.0411458496233, 240, 270, 2], -50)\n",
      "(xp, total) = (Real[201.47551322079553, 213.92266651354458, 210, 90, 2], -100)\n",
      "(xp, total) = (Real[296.8980373532726, 219.8326387256659, 210, 90, 1], -150)\n",
      "(xp, total) = (Real[373.6640315548369, 220.3760059514208, 180, 60, 2], -200)\n",
      "(xp, total) = (Real[487.8992010408213, 221.09911888041597, 180, 30, 1], -250)\n",
      "(xp, total) = (Real[42.12577320625103, 154.73928897082666, 150, 210, 2], -50178)\n",
      "(xp, total) = (Real[52.26877138525288, 151.8987056949083, 240, 210, 1], -50078)\n",
      "(xp, total) = (Real[26.52716778699286, 196.13092408739965, 270, 270, 2], -49978)\n",
      "(xp, total) = (Real[61.818937256883444, 210.56114200720455, 180, 240, 1], -49878)\n",
      "(xp, total) = (Real[63.343144528162725, 191.82254733219688, 180, 30, 2], -49778)\n",
      "(xp, total) = (Real[161.06618483990874, 186.63556382064047, 120, 90, 2], -49777)\n",
      "(xp, total) = (Real[238.53390979715414, 175.0518052556404, 60, 330, 1], -49827)\n",
      "(xp, total) = (Real[289.10142816090035, 156.2279956261035, 120, 240, 1], -49877)\n",
      "(xp, total) = (Real[306.8090664943773, 156.62363453581364, 120, 30, 2], -49927)\n",
      "(xp, total) = (Real[366.44571658224726, 165.40634118298362, 270, 240, 1], -49977)\n",
      "(xp, total) = (Real[382.54298203453186, 156.69017054251557, 90, 270, 1], -50027)\n",
      "(xp, total) = (Real[400.48377331148737, 141.71499517920586, 60, 240, 1], -50077)\n",
      "(xp, total) = (Real[442.54391864058726, 129.26020388205907, 60, 270, 1], -50127)\n",
      "(xp, total) = (Real[476.23619592234127, 127.86414654147991, 30, 90, 1], -50177)\n",
      "(xp, total) = (Real[444.8743921136468, 122.32357643550482, 120, 210, 1], -50227)\n",
      "(xp, total) = (Real[41.04641694800522, 85.74854015067464, 120, 240, 1], -100233)\n",
      "(xp, total) = (Real[75.12529736684672, 103.26796791397696, 120, 0, 1], -100133)\n",
      "(xp, total) = (Real[57.25032335672964, 138.5759600672754, 150, 90, 2], -100033)\n",
      "(xp, total) = (Real[69.06077792237309, 115.99419018362002, 120, 180, 2], -99933)\n",
      "(xp, total) = (Real[132.6723744911969, 124.43705117439164, 180, 330, 2], -99893)\n",
      "(xp, total) = (Real[196.61878210342783, 155.51390098221358, 180, 90, 2], -99943)\n",
      "(xp, total) = (Real[202.56803563231057, 165.78250389199692, 120, 120, 1], -99993)\n",
      "(xp, total) = (Real[218.17456161041162, 167.8881173069895, 60, 0, 2], -100043)\n",
      "(xp, total) = (Real[212.51355458726903, 154.43820508050854, 0, 180, 2], -100093)\n",
      "(xp, total) = (Real[128.82961354633287, 128.01372994067606, 300, 210, 1], -100143)\n",
      "(xp, total) = (Real[156.87167446472682, 136.28394605798866, 210, 330, 2], -100193)\n",
      "(xp, total) = (Real[214.59207763514578, 154.4310094147153, 240, 240, 2], -100243)\n",
      "(xp, total) = (Real[264.7985172479023, 132.21045178755747, 120, 270, 2], -100293)\n",
      "(xp, total) = (Real[363.4813603436883, 134.69010745519157, 180, 30, 2], -100343)\n",
      "(xp, total) = (Real[347.20954272897444, 147.4275402626264, 240, 120, 1], -100393)\n",
      "(xp, total) = (Real[281.0164318159743, 160.7107442240227, 330, 60, 2], -100443)\n",
      "(xp, total) = (Real[202.35628983564084, 158.80797479645068, 300, 240, 2], -100493)\n",
      "(xp, total) = (Real[214.85930749227268, 144.3083140158397, 180, 240, 2], -100543)\n",
      "(xp, total) = (Real[258.93319969147666, 129.6555435281268, 180, 240, 2], -100593)\n",
      "(xp, total) = (Real[343.1905664790092, 117.81937610599606, 150, 240, 2], -100643)\n",
      "(xp, total) = (Real[357.06324149545895, 108.53008565833008, 0, 210, 1], -100693)\n",
      "(xp, total) = (Real[400.67548731886694, 93.48469721753716, 0, 210, 1], -100743)\n",
      "(xp, total) = (Real[451.3102864797036, 80.99322344443283, 30, 180, 2], -100793)\n",
      "(xp, total) = (Real[391.05559782158286, 79.73853468871864, 270, 120, 1], -100843)\n",
      "(xp, total) = (Real[292.42539105311965, 83.54442365774285, 270, 60, 2], -100893)\n",
      "(xp, total) = (Real[296.9218548258908, 67.38805579227103, 0, 240, 2], -100943)\n",
      "(xp, total) = (Real[378.25709055718784, 65.62207919207928, 120, 330, 2], -100993)\n",
      "(xp, total) = (Real[429.9713834748649, 72.32481657249957, 120, 240, 2], -101043)\n",
      "(xp, total) = (Real[479.55967167191585, 83.85605821328207, 120, 0, 2], -101093)\n",
      "(xp, total) = (Real[33.70511595130031, 97.88943359903455, 30, 60, 1], -161050)\n"
     ]
    }
   ],
   "source": [
    "## particle filter\n",
    "\n",
    "\n",
    "β = zeros(length(grid),6);\n",
    "\n",
    "counter = 0\n",
    "last = 0\n",
    "total = 0\n",
    "for i in 1:2500\n",
    "    counter += 1\n",
    "    ξ = weighted_grid_2(b)/1000\n",
    "    \n",
    "    # choose next action\n",
    "    u = next_action([transpose(θ[:,i])*ξ for i in 1:size(θ)[2]], ϵ, rng)\n",
    "\n",
    " \n",
    "    #observe new state and reward\n",
    "    xp = f2(x, actions_[u], rng)\n",
    "    y = h(x, rng)\n",
    "    b = update(pfilter, b, actions_[u], y)\n",
    "    \n",
    "    ξ = weighted_grid_2(b)/1000\n",
    "    β[:,u] = ξ\n",
    "    \n",
    "    rew = r(Tuple(xp))\n",
    "    total += rew\n",
    "    if counter %50 == 0\n",
    "        @show xp, total\n",
    "    end\n",
    "    #update θ\n",
    "    θ += α * (rew + γ * max2([transpose(θ[:,i])*ξ for i in 1:size(θ)[2]], rng) - last)*β\n",
    "\n",
    "    # complete transition\n",
    "    x = xp\n",
    "    last = transpose(θ[:,u])*ξ\n",
    "end\n"
   ]
  },
  {
   "cell_type": "code",
   "execution_count": 279,
   "metadata": {},
   "outputs": [
    {
     "data": {
      "text/plain": [
       "112320×6 Array{Float64,2}:\n",
       " -10000.0       -10000.0  -10000.0       -10000.0  -10000.0       -10000.0\n",
       "      1.0            1.0       1.0            1.0       1.0            1.0\n",
       "      1.0            1.0       1.0            1.0       1.0            1.0\n",
       "      1.0            1.0       1.0            1.0       1.0            1.0\n",
       "      1.0            1.0       0.997884       1.0       1.0            1.0\n",
       "      1.0            1.0       0.999496       1.0       1.0            1.0\n",
       "      1.0            1.0       1.0            1.0       1.0            1.0\n",
       "      0.9998         1.0       0.999339       1.0       0.998681       1.0\n",
       "      0.999045       1.0       0.998336       1.0       0.99798        1.0\n",
       "      0.998373       1.0       0.996975       1.0       0.993843       1.0\n",
       "     -1.00946       -1.0      -1.00561       -1.0      -1.01353       -1.0\n",
       "     -1.00942       -1.0      -1.01627       -1.0      -1.02494       -1.0\n",
       "     -1.0132        -1.0      -1.01274       -1.0      -1.02687       -1.0\n",
       "      ⋮                                                                ⋮  \n",
       "     -1.0           -1.0      -1.0           -1.0      -1.0           -1.0\n",
       "     -1.0           -1.0      -1.0           -1.0      -1.0           -1.0\n",
       "     -1.0           -1.0      -1.0           -1.0      -1.0           -1.0\n",
       "     -1.0           -1.0      -1.0           -1.0      -1.0           -1.0\n",
       "     -1.0           -1.0      -1.0           -1.0      -1.0           -1.0\n",
       "     -1.0           -1.0      -1.0           -1.0      -1.0           -1.0\n",
       "     -1.0           -1.0      -1.0           -1.0      -1.0           -1.0\n",
       "     -1.0           -1.0      -1.0           -1.0      -1.0           -1.0\n",
       "     -1.0           -1.0      -1.0           -1.0      -1.0           -1.0\n",
       "     -1.0           -1.0      -1.0           -1.0      -1.0           -1.0\n",
       "     -1.0           -1.0      -1.0           -1.0      -1.0           -1.0\n",
       "     -1.0           -1.0      -1.0           -1.0      -1.0           -1.0"
      ]
     },
     "execution_count": 279,
     "metadata": {},
     "output_type": "execute_result"
    }
   ],
   "source": [
    "θ"
   ]
  },
  {
   "cell_type": "code",
   "execution_count": 116,
   "metadata": {},
   "outputs": [
    {
     "data": {
      "text/plain": [
       "3"
      ]
     },
     "execution_count": 116,
     "metadata": {},
     "output_type": "execute_result"
    }
   ],
   "source": [
    "ϵ = .6\n",
    "\n",
    "θ = zeros(length(grid),6);\n",
    "β = weighted_grid_2(b)/1000\n",
    "θ[:,3] += 5*β\n",
    "θ[:,5] += 4*β\n",
    "transpose(θ[:,3])*β\n",
    "\n",
    "\n",
    "next_action([transpose(θ[:,i])*β for i in 1:size(θ)[2]], ϵ, rng)"
   ]
  },
  {
   "cell_type": "code",
   "execution_count": null,
   "metadata": {},
   "outputs": [],
   "source": [
    "test = zeros(5,3)\n",
    "ℵ = [1, 2, 3, 4, 5]\n",
    "test[:,2] = ℵ\n",
    "test\n"
   ]
  },
  {
   "cell_type": "code",
   "execution_count": 239,
   "metadata": {},
   "outputs": [
    {
     "data": {
      "text/plain": [
       "0.6365935759634865"
      ]
     },
     "execution_count": 239,
     "metadata": {},
     "output_type": "execute_result"
    }
   ],
   "source": [
    "180/π*atan2(180, 2)"
   ]
  },
  {
   "cell_type": "code",
   "execution_count": null,
   "metadata": {},
   "outputs": [],
   "source": [
    "env = POMDPEnvironment(targetPOMDP())\n",
    "\n",
    "\n",
    "function simulate(env::AbstractEnvironment, nsteps::Int = 100)\n",
    "    done = false\n",
    "    r_tot = 0.0\n",
    "    step = 1\n",
    "    o = reset!(env)\n",
    "    while !done && step <= nsteps\n",
    "        action = sample_action(env) # take random action \n",
    "        action\n",
    "        obs, rew, done, info = step!(env, action)\n",
    "        obs = trunc(Int,obs[1])\n",
    "        #@show obs, rew, done, info\n",
    "        r_tot += rew\n",
    "        step += 1\n",
    "    end\n",
    "    return r_tot\n",
    "end\n",
    "\n",
    "@show simulate(env)\n",
    "#ac = sample_action(env)\n",
    "#step!(env, ac)"
   ]
  }
 ],
 "metadata": {
  "kernelspec": {
   "display_name": "Julia 1.2.0",
   "language": "julia",
   "name": "julia-1.2"
  },
  "language_info": {
   "file_extension": ".jl",
   "mimetype": "application/julia",
   "name": "julia",
   "version": "1.2.0"
  }
 },
 "nbformat": 4,
 "nbformat_minor": 2
}
