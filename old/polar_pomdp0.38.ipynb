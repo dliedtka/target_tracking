{
 "cells": [
  {
   "cell_type": "code",
   "execution_count": 108,
   "metadata": {},
   "outputs": [
    {
     "name": "stderr",
     "output_type": "stream",
     "text": [
      "┌ Info: Precompiling RLInterface [3065fe53-3878-5aed-aae7-ab641be43734]\n",
      "└ @ Base loading.jl:1242\n",
      "┌ Warning: Module POMDPs with build ID 1501028945801 is missing from the cache.\n",
      "│ This may mean POMDPs [a93abf59-7444-517b-a68a-c42f96afdd7d] does not support precompilation but is imported by a module that does.\n",
      "└ @ Base loading.jl:1000\n",
      "┌ Info: Skipping precompilation since __precompile__(false). Importing RLInterface [3065fe53-3878-5aed-aae7-ab641be43734].\n",
      "└ @ Base loading.jl:1017\n"
     ]
    }
   ],
   "source": [
    "using Plots\n",
    "using ParticleFilters\n",
    "using Distributions\n",
    "using StaticArrays\n",
    "using LinearAlgebra\n",
    "using Random\n",
    "using StatsBase\n",
    "using Reel\n",
    "using POMDPs\n",
    "using POMDPSimulators\n",
    "using POMDPPolicies\n",
    "using POMDPModelTools\n",
    "using GridInterpolations\n",
    "using RLInterface"
   ]
  },
  {
   "cell_type": "code",
   "execution_count": null,
   "metadata": {},
   "outputs": [],
   "source": [
    "\n"
   ]
  },
  {
   "cell_type": "code",
   "execution_count": 343,
   "metadata": {},
   "outputs": [],
   "source": [
    "include(\"atan2.jl\")\n",
    "include(\"obs.jl\")\n",
    "include(\"polargrid.jl\")\n",
    "rng = MersenneTwister(2);\n"
   ]
  },
  {
   "cell_type": "code",
   "execution_count": 217,
   "metadata": {},
   "outputs": [],
   "source": []
  },
  {
   "cell_type": "code",
   "execution_count": null,
   "metadata": {},
   "outputs": [],
   "source": [
    "\n"
   ]
  },
  {
   "cell_type": "code",
   "execution_count": 126,
   "metadata": {},
   "outputs": [],
   "source": [
    "# random walk\n",
    "\n",
    "POS_0 = [6.0, 60.0]\n",
    "CRS_0 = 90 # target's course\n",
    "HDG_0 = 90 # o/s heading\n",
    "SPD_0 = 1 # 1 or 2\n",
    "TGT_SPD = 1\n",
    "\n",
    "#input is course in degrees and rng\n",
    "#returns next course in degrees\n",
    "function next_crs(crs,rng)\n",
    "    if rand(rng) < .9\n",
    "        return crs\n",
    "    end\n",
    "    return (crs + rand(rng,[-1,1])*30 % 360)\n",
    "end\n",
    "\n",
    "# state as tuple (x, y, crs, hdg) of target (hdg of o/s)\n",
    "function f(state, control, rng)\n",
    "    r, θ, crs, hdg, spd = state\n",
    "    x = r*cos(π/180*θ)\n",
    "    y = r*sin(π/180*θ)\n",
    "    pos = [x + TGT_SPD*cos(π/180*crs) - spd*cos(π/180*hdg), y + \n",
    "        TGT_SPD*sin(π/180*crs) - spd*sin(π/180*hdg)]\n",
    "    crs = next_crs(crs,rng)\n",
    "    hdg = hdg + control[1]\n",
    "    hdg = hdg % 360\n",
    "    if hdg < 0\n",
    "        hdg += 360\n",
    "    end\n",
    "    spd = control[2]\n",
    "    r = sqrt(pos[1]^2 + pos[2]^2)\n",
    "    θ = trunc(Int, atan2(pos[1],pos[2])*180/π)\n",
    "    if θ < 0 θ += 360 end\n",
    "    return (r, θ, crs, hdg, spd)::NTuple{5, Real}\n",
    "end\n",
    "\n",
    "\n",
    "# likelihood weight of observation \"o\" given x, a, xp\n",
    "\n",
    "x = []\n",
    "courses = []\n",
    "observs = []\n",
    "crs = CRS_0\n",
    "pos = POS_0\n",
    "hdg = HDG_0\n",
    "spd = SPD_0\n",
    "\n",
    "for i in 1:100\n",
    "    state = f((pos[1], pos[2], crs, hdg, spd),(0,1),rng)\n",
    "    pos[1], pos[2], crs, hdg, spd = state\n",
    "    θ = state[2]\n",
    "    rad = state[1]\n",
    "    if θ < 0 θ += 360 end\n",
    "    push!(courses,crs)\n",
    "    push!(observs,(rad, θ, obs0(state), obs1(state), obs2(state), obs3(state)))\n",
    "end\n"
   ]
  },
  {
   "cell_type": "code",
   "execution_count": null,
   "metadata": {},
   "outputs": [],
   "source": [
    "\n",
    "#for i in observs\n",
    "    #println(i)\n",
    "#end\n"
   ]
  },
  {
   "cell_type": "code",
   "execution_count": 40,
   "metadata": {},
   "outputs": [
    {
     "data": {
      "text/plain": [
       "r (generic function with 1 method)"
      ]
     },
     "execution_count": 40,
     "metadata": {},
     "output_type": "execute_result"
    }
   ],
   "source": [
    "function r(s::NTuple{5,Real})\n",
    "    range = s[1]\n",
    "    if range > 100 return -1 end  # reward to not lose track of contact\n",
    "    if range <= 10 return -100 end  # collision avoidance\n",
    "    return 1  # being in \"sweet spot\" maximizes reward\n",
    "end"
   ]
  },
  {
   "cell_type": "code",
   "execution_count": null,
   "metadata": {},
   "outputs": [],
   "source": [
    "\n"
   ]
  },
  {
   "cell_type": "code",
   "execution_count": 347,
   "metadata": {},
   "outputs": [],
   "source": [
    "# implement POMDP here\n",
    "\n",
    "mutable struct targetPOMDP <: POMDP{NTuple{5,Real}, Tuple{Float64}, Int64}\n",
    "    p_walk::Float64\n",
    "    discount::Float64\n",
    "end\n",
    "angles = [0, 30, 60, 90, 120, 150, 210, 240, 270, 300, 330]\n",
    "#statespace = [(10.0*r,θ*30.0, crs*30.0, hdg*30.0, spd) for r in 0:30, θ in 0:11, crs in 1:12, hdg in 1:12, spd in 1:2]\n",
    "statespace = thestates\n",
    "actionspace = ((30,1), (0,1), (-30,1), (30, 2), (0,2), (-30,2))\n",
    "\n",
    "\n",
    "targetPOMDP() = targetPOMDP(0.9, 0.9)\n",
    "POMDPs.actions(::targetPOMDP) = ((30,1), (0,1), (-30,1), (30, 2), (0,2), (-30,2))\n",
    "POMDPs.actionindex(::targetPOMDP, a) = (a[1]/30+1)*2 + a[2]\n",
    "POMDPs.states(::targetPOMDP) = statespace\n",
    "POMDPs.stateindex(::targetPOMDP, s::NTuple{5,Real}) = LinearIndices(statespace)[s[1]/10, s[2]/30, s[3]/30, s[4]/30, s[5]]\n",
    "#POMDPs.stateindex(::targetPOMDP, s::NTuple{5,Int64}) = LinearIndices(statespace)[round(Int,s[1]/10)+1, round(Int,s[2]/30)+1,\n",
    "#    (round(Int,s[3]/30)+1, round(Int,s[4]/30)+1, round(Int,s[5])+1]\n",
    "POMDPs.observations(::targetPOMDP) = (0, 1, 2, 3)\n",
    "POMDPs.obsindex(::targetPOMDP, o::Int64) = o + 1\n",
    "POMDPs.initialobs(::targetPOMDP, s::NTuple{5,Real}, rng::AbstractRNG) = h(s,rng)\n",
    "POMDPs.initialstate_distribution(::targetPOMDP) = ParticleCollection([(5, 60, 90, 90, 1) for i in 1:N])\n",
    "POMDPs.initialstate(::targetPOMDP, rng::AbstractRNG) = (rand(rng,1:10), rand(rng, angles),\n",
    "    rand(rng, angles), rand(rng, angles), rand(rng,1:2))\n",
    "POMDPs.isterminal(::targetPOMDP, s) = s[1] >= 300\n",
    "POMDPs.discount(::targetPOMDP) = 0.9\n",
    "\n",
    "function POMDPs.gen(m::targetPOMDP, s, a, rng)\n",
    "    return (sp=f(s,a,rng), r=r(s), o=h(s,rng))\n",
    "end"
   ]
  },
  {
   "cell_type": "code",
   "execution_count": 122,
   "metadata": {},
   "outputs": [],
   "source": [
    "N = 1000\n",
    "pomdp = targetPOMDP(0.9, 0.9)\n",
    "#initialstate_distribution(pomdp) = ParticleCollection([[5, 60, 90, 90, 1] for i in 1:N])\n",
    "\n",
    "\n",
    "updater = SIRParticleFilter(pomdp, N);\n",
    "\n",
    "function f2(x, u, rng)\n",
    "    return [i for i in f(x, u, rng)]\n",
    "end\n",
    "\n",
    "\n",
    "model = ParticleFilterModel{Vector{Float64}}(f2, g)\n",
    "pfilter = SIRParticleFilter(model, N);\n"
   ]
  },
  {
   "cell_type": "code",
   "execution_count": 349,
   "metadata": {},
   "outputs": [
    {
     "data": {
      "text/plain": [
       "(-30, 1)"
      ]
     },
     "execution_count": 349,
     "metadata": {},
     "output_type": "execute_result"
    }
   ],
   "source": [
    "actionspace[3]"
   ]
  },
  {
   "cell_type": "code",
   "execution_count": 353,
   "metadata": {},
   "outputs": [
    {
     "data": {
      "text/plain": [
       "5"
      ]
     },
     "execution_count": 353,
     "metadata": {},
     "output_type": "execute_result"
    }
   ],
   "source": [
    "θ = zeros(length(grid),6);\n",
    "β = weighted_grid_2(b)\n",
    "θ[:,3] += 5*β\n",
    "θ[:,5] += 6*β\n",
    "transpose(θ[:,3])*β\n",
    "           \n",
    "argmax2([transpose(θ[:,i])*β for i in 1:size(θ)[2]],rng)\n",
    "    \n",
    "                    "
   ]
  },
  {
   "cell_type": "code",
   "execution_count": null,
   "metadata": {},
   "outputs": [],
   "source": []
  },
  {
   "cell_type": "code",
   "execution_count": 209,
   "metadata": {},
   "outputs": [
    {
     "name": "stdout",
     "output_type": "stream",
     "text": [
      "........................................................................................................................................................................................................"
     ]
    },
    {
     "data": {
      "text/plain": [
       "-1420"
      ]
     },
     "execution_count": 209,
     "metadata": {},
     "output_type": "execute_result"
    }
   ],
   "source": [
    "## particle filter\n",
    "\n",
    "γ = 0.9\n",
    "b = ParticleCollection([[15, 60, 90, 90, 1] for i in 1:N])\n",
    "x = [15, 60, 90, 90, 1];\n",
    "plots = []\n",
    "total = 0\n",
    "for i in 1:200\n",
    "    print(\".\")\n",
    "    if i % 10 == 0\n",
    "        u = (30 * rand(rng,[1,-1]), rand(rng, [1,2]))\n",
    "    else\n",
    "        u = (0,1)\n",
    "    end\n",
    "    x = f2(x, u, rng)\n",
    "    y = h(x, rng)\n",
    "    b = update(pfilter, b, u, y)\n",
    "    rew = r(Tuple(x))\n",
    "    total += rew\n",
    "    x, y, rew\n",
    "    \n",
    "    # plotting\n",
    "    #r_ = [row[1] for row in particles(b)]\n",
    "    #theta = [row[2] for row in particles(b)]*π/180\n",
    "    #x_theta = x[2]*π/180\n",
    "    #x_r = x[1]\n",
    "      \n",
    "    #plt = plot(proj=:polar, lims=(0,100), size=(1000,1000))\n",
    "    #scatter!(theta, r_, markersize=1, label=\"particles\")\n",
    "    #scatter!([x_theta], [x_r], markersize=3, label=\"target\")\n",
    "    #push!(plots, plt)    \n",
    "end\n",
    "total"
   ]
  },
  {
   "cell_type": "code",
   "execution_count": 344,
   "metadata": {},
   "outputs": [],
   "source": [
    "\n",
    "β = weighted_grid(b);"
   ]
  },
  {
   "cell_type": "code",
   "execution_count": null,
   "metadata": {},
   "outputs": [],
   "source": []
  },
  {
   "cell_type": "code",
   "execution_count": null,
   "metadata": {},
   "outputs": [],
   "source": []
  },
  {
   "cell_type": "code",
   "execution_count": null,
   "metadata": {},
   "outputs": [],
   "source": [
    "env = POMDPEnvironment(targetPOMDP())\n",
    "\n",
    "\n",
    "function simulate(env::AbstractEnvironment, nsteps::Int = 100)\n",
    "    done = false\n",
    "    r_tot = 0.0\n",
    "    step = 1\n",
    "    o = reset!(env)\n",
    "    while !done && step <= nsteps\n",
    "        action = sample_action(env) # take random action \n",
    "        action\n",
    "        obs, rew, done, info = step!(env, action)\n",
    "        obs = trunc(Int,obs[1])\n",
    "        #@show obs, rew, done, info\n",
    "        r_tot += rew\n",
    "        step += 1\n",
    "    end\n",
    "    return r_tot\n",
    "end\n",
    "\n",
    "@show simulate(env)\n",
    "#ac = sample_action(env)\n",
    "#step!(env, ac)"
   ]
  }
 ],
 "metadata": {
  "kernelspec": {
   "display_name": "Julia 1.2.0",
   "language": "julia",
   "name": "julia-1.2"
  },
  "language_info": {
   "file_extension": ".jl",
   "mimetype": "application/julia",
   "name": "julia",
   "version": "1.2.0"
  }
 },
 "nbformat": 4,
 "nbformat_minor": 2
}
