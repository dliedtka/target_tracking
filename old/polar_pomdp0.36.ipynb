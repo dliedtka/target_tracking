{
 "cells": [
  {
   "cell_type": "code",
   "execution_count": 1,
   "metadata": {},
   "outputs": [],
   "source": [
    "using Plots\n",
    "using ParticleFilters\n",
    "using Distributions\n",
    "using StaticArrays\n",
    "using LinearAlgebra\n",
    "using Random\n",
    "using StatsBase\n",
    "using Reel\n",
    "using POMDPs\n",
    "using POMDPSimulators\n",
    "using POMDPPolicies\n",
    "using POMDPModelTools\n",
    "using ARDESPOT"
   ]
  },
  {
   "cell_type": "code",
   "execution_count": 2,
   "metadata": {},
   "outputs": [],
   "source": [
    "include(\"atan2.jl\")\n",
    "include(\"obs.jl\")\n",
    "rng = MersenneTwister(2);\n"
   ]
  },
  {
   "cell_type": "code",
   "execution_count": 3,
   "metadata": {},
   "outputs": [],
   "source": [
    "# random walk\n",
    "\n",
    "POS_0 = [6.0, 60.0]\n",
    "CRS_0 = 90 # target's course\n",
    "HDG_0 = 90 # o/s heading\n",
    "SPD_0 = 1 # 1 or 2\n",
    "\n",
    "#input is course in degrees and rng\n",
    "#returns next course in degrees\n",
    "function next_crs(crs,rng)\n",
    "    if rand(rng) < .9\n",
    "        return crs\n",
    "    end\n",
    "    return (crs + rand(rng,[-1,1])*30 % 360)\n",
    "end\n",
    "\n",
    "# state as tuple (x, y, crs, hdg) of target (hdg of o/s)\n",
    "function f(state, control, rng)\n",
    "    r, θ, crs, hdg, spd = state\n",
    "    x = r*cos(π/180*θ)\n",
    "    y = r*sin(π/180*θ)\n",
    "    pos = [x + cos(π/180*crs) - spd*cos(π/180*hdg), y + sin(π/180*crs) - spd*sin(π/180*hdg)]\n",
    "    crs = next_crs(crs,rng)\n",
    "    hdg = control[1]\n",
    "    spd = control[2]\n",
    "    r = sqrt(pos[1]^2 + pos[2]^2)\n",
    "    θ = atan2(pos[1],pos[2])*180/π\n",
    "    if θ < 0 θ += 360 end\n",
    "    return [r, θ, crs, hdg, spd]\n",
    "end\n",
    "\n",
    "\n",
    "# likelihood weight of observation \"o\" given x, a, xp\n",
    "\n",
    "\n",
    "x = []\n",
    "courses = []\n",
    "observs = []\n",
    "crs = CRS_0\n",
    "pos = POS_0\n",
    "hdg = HDG_0\n",
    "spd = SPD_0\n",
    "\n",
    "for i in 1:100\n",
    "    state = f((pos[1], pos[2], crs, hdg, spd),(0,1),rng)\n",
    "    pos[1], pos[2], crs, hdg, spd = state\n",
    "    θ = state[2]\n",
    "    rad = state[1]\n",
    "    if θ < 0 θ += 360 end\n",
    "    push!(courses,crs)\n",
    "    push!(observs,(rad, θ, obs0(state), obs1(state), obs2(state), obs3(state)))\n",
    "end\n"
   ]
  },
  {
   "cell_type": "code",
   "execution_count": null,
   "metadata": {},
   "outputs": [],
   "source": [
    "\n",
    "for i in observs\n",
    "   #println(i)\n",
    "end\n"
   ]
  },
  {
   "cell_type": "code",
   "execution_count": 4,
   "metadata": {},
   "outputs": [
    {
     "data": {
      "text/plain": [
       "r (generic function with 1 method)"
      ]
     },
     "execution_count": 4,
     "metadata": {},
     "output_type": "execute_result"
    }
   ],
   "source": [
    "function r(s,a)\n",
    "    range = sqrt(s[1]^2 + s[2]^2)\n",
    "    if range > 100 return -1 end\n",
    "    if range <= 10 return -100 end\n",
    "    return 0\n",
    "end"
   ]
  },
  {
   "cell_type": "code",
   "execution_count": 5,
   "metadata": {},
   "outputs": [],
   "source": [
    "model = ParticleFilterModel{Vector{Float64}}(f, g)\n",
    "\n",
    "N = 1000\n",
    "filter = SIRParticleFilter(model, N);\n",
    "\n"
   ]
  },
  {
   "cell_type": "code",
   "execution_count": 6,
   "metadata": {},
   "outputs": [],
   "source": [
    "# implement POMDP here\n",
    "\n",
    "mutable struct targetPOMDP <: POMDP{Vector{Float64}, Tuple{Float64}, Int64}\n",
    "    p_walk::Float64\n",
    "    discount::Float64\n",
    "end\n",
    "\n",
    "statespace = [(10*r,θ*15, crs*15, hdg*15, spd) for r in 0:30, θ in 1:12, crs in 1:12, hdg in 1:12, spd in 1:2]\n",
    "\n",
    "targetPOMDP() = targetPOMDP(0.9, 0.9)\n",
    "POMDPs.actions(::targetPOMDP) = ((30,1),(0,1),(-30,1),(30, 2), (0,2), (-30,2))\n",
    "POMDPs.actionindex(::targetPOMDP, a::Tuple) = (a[1]/30+1)*2 + a[2] #cleverness returns 1-6\n",
    "POMDPs.states(::targetPOMDP) = statespace\n",
    "POMDPs.stateindex(::targetPOMDP, s::NTuple{5,Int64}) = LinearIndices(statespace)[s[1]/10, s[2]/30, s[3]/30, s[4]/30, s[5]]\n",
    "#POMDPs.stateindex(::targetPOMDP, s::NTuple{5,Int64}) = LinearIndices(statespace)[round(Int,s[1]/10)+1, round(Int,s[2]/30)+1,\n",
    "#    (round(Int,s[3]/30)+1, round(Int,s[4]/30)+1, round(Int,s[5])+1]\n",
    "POMDPs.observations(::targetPOMDP) = (0, 1, 2, 3)\n",
    "POMDPs.obsindex(::targetPOMDP, o::Int64) = o + 1\n",
    "\n",
    "POMDPs.initialstate_distribution(::targetPOMDP) = ParticleCollection([[5, 60, 90, 90, 1] for i in 1:N])\n",
    "POMDPs.initialstate(::targetPOMDP, rng::AbstractRNG) = [5, 60, 90, 90, 1]\n",
    "POMDPs.isterminal(::targetPOMDP,s) = s[1] >= 300\n",
    "POMDPs.discount(::targetPOMDP) = 0.9\n",
    "\n",
    "function POMDPs.gen(m::targetPOMDP, s, a, rng)\n",
    "    return (sp=f(s,a,rng), r=r(s), o=h(s,rng))\n",
    "end"
   ]
  },
  {
   "cell_type": "code",
   "execution_count": 7,
   "metadata": {},
   "outputs": [],
   "source": [
    "N = 1000\n",
    "pomdp = targetPOMDP(0.9, 0.9)\n",
    "#initialstate_distribution(pomdp) = ParticleCollection([[5, 60, 90, 90, 1] for i in 1:N])\n",
    "\n",
    "\n",
    "updater = SIRParticleFilter(pomdp, N);\n",
    "\n"
   ]
  },
  {
   "cell_type": "code",
   "execution_count": null,
   "metadata": {},
   "outputs": [],
   "source": []
  },
  {
   "cell_type": "code",
   "execution_count": null,
   "metadata": {},
   "outputs": [],
   "source": []
  },
  {
   "cell_type": "code",
   "execution_count": null,
   "metadata": {},
   "outputs": [],
   "source": []
  },
  {
   "cell_type": "code",
   "execution_count": null,
   "metadata": {},
   "outputs": [],
   "source": []
  },
  {
   "cell_type": "code",
   "execution_count": null,
   "metadata": {},
   "outputs": [],
   "source": []
  },
  {
   "cell_type": "code",
   "execution_count": null,
   "metadata": {},
   "outputs": [],
   "source": [
    "\n"
   ]
  },
  {
   "cell_type": "code",
   "execution_count": null,
   "metadata": {},
   "outputs": [],
   "source": []
  }
 ],
 "metadata": {
  "kernelspec": {
   "display_name": "Julia 1.2.0",
   "language": "julia",
   "name": "julia-1.2"
  },
  "language_info": {
   "file_extension": ".jl",
   "mimetype": "application/julia",
   "name": "julia",
   "version": "1.2.0"
  }
 },
 "nbformat": 4,
 "nbformat_minor": 2
}
