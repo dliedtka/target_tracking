{
 "cells": [
  {
   "cell_type": "code",
   "execution_count": 1,
   "metadata": {},
   "outputs": [],
   "source": [
    "using Plots\n",
    "using ParticleFilters\n",
    "using Distributions\n",
    "using StaticArrays\n",
    "using LinearAlgebra\n",
    "using Random\n",
    "using StatsBase\n",
    "#using Reel\n",
    "using SparseArrays\n",
    "using GridInterpolations\n",
    "using DataStructures\n",
    "using DataFrames\n",
    "using CSV"
   ]
  },
  {
   "cell_type": "code",
   "execution_count": null,
   "metadata": {},
   "outputs": [],
   "source": []
  },
  {
   "cell_type": "code",
   "execution_count": 2,
   "metadata": {},
   "outputs": [],
   "source": [
    "\n",
    "include(\"atan2.jl\")\n",
    "include(\"obs_rel.jl\")\n",
    "include(\"polargrid_rel_qual.jl\")\n",
    "rng = MersenneTwister(2);\n",
    "#"
   ]
  },
  {
   "cell_type": "code",
   "execution_count": 3,
   "metadata": {},
   "outputs": [
    {
     "data": {
      "text/plain": [
       "f (generic function with 1 method)"
      ]
     },
     "execution_count": 3,
     "metadata": {},
     "output_type": "execute_result"
    }
   ],
   "source": [
    "# random walk\n",
    "\n",
    "POS_0 = [6.0, 60.0]\n",
    "CRS_0 = 90 # target's course\n",
    "SPD_0 = 1 # 1 or 2\n",
    "TGT_SPD = 1\n",
    "\n",
    "#input is course in degrees and rng\n",
    "#returns next course in degrees\n",
    "function next_crs(crs,rng)\n",
    "    if rand(rng) < .9\n",
    "        return crs\n",
    "    end\n",
    "    crs = (crs + rand(rng,[-1,1])*30) % 360\n",
    "    if crs < 0 crs += 360 end\n",
    "    return crs\n",
    "end\n",
    "\n",
    "# state as tuple (x, y, crs, spd) of target (spd of o/s)\n",
    "function f(state, control, rng)\n",
    "    r, θ, crs, spd = state\n",
    "    θ += control[1]\n",
    "    spd = control[2]\n",
    "    if θ < 0 θ += 360 end\n",
    "    θ = θ % 360\n",
    "    crs -= control[1]\n",
    "    if crs < 0 crs += 360 end\n",
    "    crs = crs % 360\n",
    "    x = r*cos(π/180*θ)\n",
    "    y = r*sin(π/180*θ)\n",
    "    pos = [x + TGT_SPD*cos(π/180*crs) - spd, y + \n",
    "        TGT_SPD*sin(π/180*crs)]\n",
    "    crs = next_crs(crs,rng)\n",
    "    r = sqrt(pos[1]^2 + pos[2]^2)\n",
    "    θ = atan2(pos[1],pos[2])*180/π\n",
    "    if θ < 0 θ += 360 end\n",
    "    return (r, θ, crs, spd)::NTuple{4, Real}\n",
    "end\n",
    "#"
   ]
  },
  {
   "cell_type": "code",
   "execution_count": 4,
   "metadata": {},
   "outputs": [
    {
     "data": {
      "text/plain": [
       "r (generic function with 1 method)"
      ]
     },
     "execution_count": 4,
     "metadata": {},
     "output_type": "execute_result"
    }
   ],
   "source": [
    "function r(s)\n",
    "    range = s[1]\n",
    "    if range > 150 return -.1 end  # reward to not lose track of contact\n",
    "    if range <= 10 return -1 end  # collision avoidance\n",
    "    return .1  # being in \"sweet spot\" maximizes reward\n",
    "end\n",
    "#"
   ]
  },
  {
   "cell_type": "code",
   "execution_count": null,
   "metadata": {},
   "outputs": [],
   "source": [
    "\n"
   ]
  },
  {
   "cell_type": "code",
   "execution_count": 5,
   "metadata": {},
   "outputs": [
    {
     "data": {
      "text/plain": [
       "((-30, 1), (-30, 2), (0, 1), (0, 2), (30, 1), (30, 2))"
      ]
     },
     "execution_count": 5,
     "metadata": {},
     "output_type": "execute_result"
    }
   ],
   "source": [
    "#angles = [0, 30, 60, 90, 120, 150, 210, 240, 270, 300, 330]\n",
    "\n",
    "statespace = thestates\n",
    "actionspace = ((30,1), (0,1), (-30,1), (30, 2), (0,2), (-30,2))\n",
    "\n",
    "action_index(a) = trunc(Int, 2*(a[1]/30+1) + a[2])\n",
    "actions_ = ((-30,1), (-30, 2), (0, 1), (0, 2), (30, 1), (30, 2))\n",
    "\n"
   ]
  },
  {
   "cell_type": "code",
   "execution_count": 6,
   "metadata": {},
   "outputs": [
    {
     "data": {
      "text/plain": [
       "f2 (generic function with 1 method)"
      ]
     },
     "execution_count": 6,
     "metadata": {},
     "output_type": "execute_result"
    }
   ],
   "source": [
    "# returns vector rather than Tuple, for particle filter\n",
    "function f2(x, u, rng)\n",
    "    temp = [i for i in f(x, u, rng)]\n",
    "    return temp\n",
    "end"
   ]
  },
  {
   "cell_type": "code",
   "execution_count": 7,
   "metadata": {},
   "outputs": [],
   "source": [
    "totals = [0.0]\n",
    "θ = zeros(length(grid),6);\n",
    "#θ = [r(Tuple(ind2x(grid, j))) for j in 1:length(grid), i in 1:6];"
   ]
  },
  {
   "cell_type": "code",
   "execution_count": 8,
   "metadata": {},
   "outputs": [
    {
     "data": {
      "text/plain": [
       "0"
      ]
     },
     "execution_count": 8,
     "metadata": {},
     "output_type": "execute_result"
    }
   ],
   "source": [
    "\n",
    "N = 500\n",
    "model = ParticleFilterModel{Vector{Float64}}(f2, g)\n",
    "pfilter = SIRParticleFilter(model, N);\n",
    "α = 0.5\n",
    "γ = 0.95\n",
    "ϵ = .3\n",
    "x = [20, 60, 90, 1, 1];\n",
    "λ = 0.99\n",
    "b = ParticleCollection([[20, 60, 90, 1] for i in 1:N]);\n",
    "counter = 0\n"
   ]
  },
  {
   "cell_type": "code",
   "execution_count": 26,
   "metadata": {},
   "outputs": [
    {
     "name": "stdout",
     "output_type": "stream",
     "text": [
      "--------- CURRENT: 50.00000000000017 AVG: 30.96280623608031 Epoch: 1 Randoms: 71 -----------\n",
      "--------- CURRENT: 50.00000000000017 AVG: 31.005111111111255 Epoch: 2 Randoms: 74 -----------\n",
      "--------- CURRENT: -23.99999999999995 AVG: 30.88314855875846 Epoch: 3 Randoms: 76 -----------\n",
      "--------- CURRENT: 50.00000000000017 AVG: 30.92544247787625 Epoch: 4 Randoms: 68 -----------\n",
      "--------- CURRENT: 6.000000000000002 AVG: 30.87041942604871 Epoch: 5 Randoms: 86 -----------\n",
      "--------- CURRENT: -110.59999999999988 AVG: 30.558810572687367 Epoch: 6 Randoms: 66 -----------\n",
      "--------- CURRENT: 50.00000000000017 AVG: 30.601538461538603 Epoch: 7 Randoms: 70 -----------\n",
      "--------- CURRENT: 50.00000000000017 AVG: 30.644078947368563 Epoch: 8 Randoms: 87 -----------\n",
      "--------- CURRENT: 16.399999999999974 AVG: 30.612910284464036 Epoch: 9 Randoms: 71 -----------\n",
      "--------- CURRENT: 50.00000000000017 AVG: 30.655240174672628 Epoch: 10 Randoms: 76 -----------\n",
      "--------- CURRENT: 50.00000000000017 AVG: 30.69738562091517 Epoch: 11 Randoms: 88 -----------\n",
      "--------- CURRENT: -27.19999999999994 AVG: 30.57152173913057 Epoch: 12 Randoms: 71 -----------\n",
      "--------- CURRENT: 1.6000000000000554 AVG: 30.50867678958799 Epoch: 13 Randoms: 89 -----------\n",
      "--------- CURRENT: -36.79999999999998 AVG: 30.36298701298715 Epoch: 14 Randoms: 74 -----------\n",
      "--------- CURRENT: 21.399999999999928 AVG: 30.34362850971936 Epoch: 15 Randoms: 72 -----------\n",
      "--------- CURRENT: 48.00000000000014 AVG: 30.381681034482895 Epoch: 16 Randoms: 67 -----------\n",
      "--------- CURRENT: 50.00000000000017 AVG: 30.423870967742072 Epoch: 17 Randoms: 72 -----------\n",
      "--------- CURRENT: 16.399999999999974 AVG: 30.39377682403447 Epoch: 18 Randoms: 80 -----------\n",
      "--------- CURRENT: 50.00000000000017 AVG: 30.435760171306345 Epoch: 19 Randoms: 69 -----------\n"
     ]
    },
    {
     "ename": "InterruptException",
     "evalue": "InterruptException:",
     "output_type": "error",
     "traceback": [
      "InterruptException:",
      "",
      "Stacktrace:",
      " [1] top-level scope at In[26]:46"
     ]
    }
   ],
   "source": [
    "## Q-learning loop\n",
    "#plots = []\n",
    "betas = Deque{Array}()\n",
    "#β = zeros(length(grid),6);\n",
    "\n",
    "epochs = 1000\n",
    "epochsize = 250\n",
    "\n",
    "total = 0\n",
    "rando = 0\n",
    "\n",
    "\n",
    "x = [rand(rng, 25:150), rand(rng,0:359), rand(rng,0:11)*30, 1, 1];     \n",
    "b = ParticleCollection([x[1:4] for i in 1:N]);     \n",
    "ξ = weighted_grid_2(b)/N\n",
    "for i in 1:(epochsize*epochs)\n",
    "    counter += 1\n",
    "    \n",
    "    \n",
    "    # choose next action\n",
    "    uu = next_action([transpose(θ[:,j])*ξ for j in 1:size(θ)[2]], ϵ, rng)\n",
    "    u = uu[1]\n",
    "    rando += uu[2]\n",
    "    \n",
    "    #observe new state and reward\n",
    "    xp = f2(x, actions_[u], rng)\n",
    "    y = h(xp, rng)\n",
    "    b = update(pfilter, b, actions_[u], y)\n",
    "    rew = r(Tuple(xp))\n",
    "       \n",
    "    ξ = weighted_grid_2(b)/N\n",
    "    β = sparse(ξ)\n",
    "\n",
    "    total += rew\n",
    "    #v = 10^3*sqrt(var(ξ))\n",
    "    pushfirst!(betas, [β,u])\n",
    "    \n",
    "    cur = (rew + γ * max2([transpose(θ[:,j])*ξ for j in 1:size(θ)[2]], rng))\n",
    "    #println(cur)\n",
    "    \n",
    "    betacount = 0\n",
    "    for (j, bet) in enumerate(betas)\n",
    "        for k in bet[1].nzind\n",
    "            θ[k:bet[2]] *= (1 - ((λ^j) * α))\n",
    "        end\n",
    "        θ[:,bet[2]] += (λ^j) * α * cur * bet[1]\n",
    "        betacount += 1\n",
    "    end\n",
    "    \n",
    "    \n",
    "    #last = transpose(θ[:,u])*ξ\n",
    "    #print(\".\")\n",
    "    if counter % epochsize == 0\n",
    "        #println()\n",
    "        push!(totals, total*500/epochsize)\n",
    "        #ϵ = max(min((20000 - 2*total)/180000, 1), 0)\n",
    "        println(\"--------- CURRENT: \", total*500/epochsize, \" AVG: \", mean(totals), \" Epoch: \", \n",
    "            trunc(Int, counter/epochsize),  \" Randoms: \", rando, \" -----------\")\n",
    "        total = 0\n",
    "        rando = 0\n",
    "        xp = [rand(rng, 25:150), rand(rng,0:359), rand(rng,0:11)*30, rand(rng, [1,2]), 1];\n",
    "        b = ParticleCollection([xp[1:4] for i in 1:N]);     \n",
    "        betas = Deque{Array}()\n",
    "        ξ = weighted_grid_2(b)/N\n",
    "    end\n",
    "    if counter % (epochsize*5) == 0\n",
    "        thetaframe = DataFrame(θ)\n",
    "        CSV.write(\"current2.csv\", thetaframe)\n",
    "    end\n",
    "    x = xp\n",
    "    \n",
    "    \n",
    "    #plotting\n",
    "    #r_ = [row[1] for row in particles(b)]\n",
    "    #theta = [row[2] for row in particles(b)]*π/180\n",
    "    #x_theta = x[2]*π/180\n",
    "    #x_r = x[1]\n",
    "    \n",
    "    #print(\".\")\n",
    "    #plt = plot(proj=:polar, lims=(0,200), size=(1000,1000))\n",
    "    #scatter!(theta, r_, markersize=1, label=\"particles\")\n",
    "    #scatter!([x_theta], [x_r], markersize=3, label=\"target\")\n",
    "          \n",
    "    #push!(plots, plt)\n",
    "    \n",
    "end\n"
   ]
  },
  {
   "cell_type": "code",
   "execution_count": null,
   "metadata": {},
   "outputs": [],
   "source": []
  },
  {
   "cell_type": "code",
   "execution_count": 36,
   "metadata": {},
   "outputs": [
    {
     "data": {
      "image/svg+xml": [
       "<?xml version=\"1.0\" encoding=\"utf-8\"?>\n",
       "<svg xmlns=\"http://www.w3.org/2000/svg\" xmlns:xlink=\"http://www.w3.org/1999/xlink\" width=\"600\" height=\"400\" viewBox=\"0 0 2400 1600\">\n",
       "<defs>\n",
       "  <clipPath id=\"clip0500\">\n",
       "    <rect x=\"0\" y=\"0\" width=\"2400\" height=\"1600\"/>\n",
       "  </clipPath>\n",
       "</defs>\n",
       "<path clip-path=\"url(#clip0500)\" d=\"\n",
       "M0 1600 L2400 1600 L2400 0 L0 0  Z\n",
       "  \" fill=\"#ffffff\" fill-rule=\"evenodd\" fill-opacity=\"1\"/>\n",
       "<defs>\n",
       "  <clipPath id=\"clip0501\">\n",
       "    <rect x=\"480\" y=\"0\" width=\"1681\" height=\"1600\"/>\n",
       "  </clipPath>\n",
       "</defs>\n",
       "<path clip-path=\"url(#clip0500)\" d=\"\n",
       "M140.517 1487.47 L2352.76 1487.47 L2352.76 47.2441 L140.517 47.2441  Z\n",
       "  \" fill=\"#ffffff\" fill-rule=\"evenodd\" fill-opacity=\"1\"/>\n",
       "<defs>\n",
       "  <clipPath id=\"clip0502\">\n",
       "    <rect x=\"140\" y=\"47\" width=\"2213\" height=\"1441\"/>\n",
       "  </clipPath>\n",
       "</defs>\n",
       "<polyline clip-path=\"url(#clip0502)\" style=\"stroke:#000000; stroke-width:2; stroke-opacity:0.1; fill:none\" points=\"\n",
       "  199.75,1487.47 199.75,47.2441 \n",
       "  \"/>\n",
       "<polyline clip-path=\"url(#clip0502)\" style=\"stroke:#000000; stroke-width:2; stroke-opacity:0.1; fill:none\" points=\"\n",
       "  537.455,1487.47 537.455,47.2441 \n",
       "  \"/>\n",
       "<polyline clip-path=\"url(#clip0502)\" style=\"stroke:#000000; stroke-width:2; stroke-opacity:0.1; fill:none\" points=\"\n",
       "  875.161,1487.47 875.161,47.2441 \n",
       "  \"/>\n",
       "<polyline clip-path=\"url(#clip0502)\" style=\"stroke:#000000; stroke-width:2; stroke-opacity:0.1; fill:none\" points=\"\n",
       "  1212.87,1487.47 1212.87,47.2441 \n",
       "  \"/>\n",
       "<polyline clip-path=\"url(#clip0502)\" style=\"stroke:#000000; stroke-width:2; stroke-opacity:0.1; fill:none\" points=\"\n",
       "  1550.57,1487.47 1550.57,47.2441 \n",
       "  \"/>\n",
       "<polyline clip-path=\"url(#clip0502)\" style=\"stroke:#000000; stroke-width:2; stroke-opacity:0.1; fill:none\" points=\"\n",
       "  1888.28,1487.47 1888.28,47.2441 \n",
       "  \"/>\n",
       "<polyline clip-path=\"url(#clip0502)\" style=\"stroke:#000000; stroke-width:2; stroke-opacity:0.1; fill:none\" points=\"\n",
       "  2225.98,1487.47 2225.98,47.2441 \n",
       "  \"/>\n",
       "<polyline clip-path=\"url(#clip0502)\" style=\"stroke:#000000; stroke-width:2; stroke-opacity:0.1; fill:none\" points=\"\n",
       "  140.517,1487.47 2352.76,1487.47 \n",
       "  \"/>\n",
       "<polyline clip-path=\"url(#clip0502)\" style=\"stroke:#000000; stroke-width:2; stroke-opacity:0.1; fill:none\" points=\"\n",
       "  140.517,1199.43 2352.76,1199.43 \n",
       "  \"/>\n",
       "<polyline clip-path=\"url(#clip0502)\" style=\"stroke:#000000; stroke-width:2; stroke-opacity:0.1; fill:none\" points=\"\n",
       "  140.517,911.382 2352.76,911.382 \n",
       "  \"/>\n",
       "<polyline clip-path=\"url(#clip0502)\" style=\"stroke:#000000; stroke-width:2; stroke-opacity:0.1; fill:none\" points=\"\n",
       "  140.517,623.336 2352.76,623.336 \n",
       "  \"/>\n",
       "<polyline clip-path=\"url(#clip0502)\" style=\"stroke:#000000; stroke-width:2; stroke-opacity:0.1; fill:none\" points=\"\n",
       "  140.517,335.29 2352.76,335.29 \n",
       "  \"/>\n",
       "<polyline clip-path=\"url(#clip0502)\" style=\"stroke:#000000; stroke-width:2; stroke-opacity:0.1; fill:none\" points=\"\n",
       "  140.517,47.2441 2352.76,47.2441 \n",
       "  \"/>\n",
       "<polyline clip-path=\"url(#clip0500)\" style=\"stroke:#000000; stroke-width:4; stroke-opacity:1; fill:none\" points=\"\n",
       "  140.517,1487.47 2352.76,1487.47 \n",
       "  \"/>\n",
       "<polyline clip-path=\"url(#clip0500)\" style=\"stroke:#000000; stroke-width:4; stroke-opacity:1; fill:none\" points=\"\n",
       "  140.517,1487.47 140.517,47.2441 \n",
       "  \"/>\n",
       "<polyline clip-path=\"url(#clip0500)\" style=\"stroke:#000000; stroke-width:4; stroke-opacity:1; fill:none\" points=\"\n",
       "  199.75,1487.47 199.75,1465.87 \n",
       "  \"/>\n",
       "<polyline clip-path=\"url(#clip0500)\" style=\"stroke:#000000; stroke-width:4; stroke-opacity:1; fill:none\" points=\"\n",
       "  537.455,1487.47 537.455,1465.87 \n",
       "  \"/>\n",
       "<polyline clip-path=\"url(#clip0500)\" style=\"stroke:#000000; stroke-width:4; stroke-opacity:1; fill:none\" points=\"\n",
       "  875.161,1487.47 875.161,1465.87 \n",
       "  \"/>\n",
       "<polyline clip-path=\"url(#clip0500)\" style=\"stroke:#000000; stroke-width:4; stroke-opacity:1; fill:none\" points=\"\n",
       "  1212.87,1487.47 1212.87,1465.87 \n",
       "  \"/>\n",
       "<polyline clip-path=\"url(#clip0500)\" style=\"stroke:#000000; stroke-width:4; stroke-opacity:1; fill:none\" points=\"\n",
       "  1550.57,1487.47 1550.57,1465.87 \n",
       "  \"/>\n",
       "<polyline clip-path=\"url(#clip0500)\" style=\"stroke:#000000; stroke-width:4; stroke-opacity:1; fill:none\" points=\"\n",
       "  1888.28,1487.47 1888.28,1465.87 \n",
       "  \"/>\n",
       "<polyline clip-path=\"url(#clip0500)\" style=\"stroke:#000000; stroke-width:4; stroke-opacity:1; fill:none\" points=\"\n",
       "  2225.98,1487.47 2225.98,1465.87 \n",
       "  \"/>\n",
       "<polyline clip-path=\"url(#clip0500)\" style=\"stroke:#000000; stroke-width:4; stroke-opacity:1; fill:none\" points=\"\n",
       "  140.517,1487.47 173.7,1487.47 \n",
       "  \"/>\n",
       "<polyline clip-path=\"url(#clip0500)\" style=\"stroke:#000000; stroke-width:4; stroke-opacity:1; fill:none\" points=\"\n",
       "  140.517,1199.43 173.7,1199.43 \n",
       "  \"/>\n",
       "<polyline clip-path=\"url(#clip0500)\" style=\"stroke:#000000; stroke-width:4; stroke-opacity:1; fill:none\" points=\"\n",
       "  140.517,911.382 173.7,911.382 \n",
       "  \"/>\n",
       "<polyline clip-path=\"url(#clip0500)\" style=\"stroke:#000000; stroke-width:4; stroke-opacity:1; fill:none\" points=\"\n",
       "  140.517,623.336 173.7,623.336 \n",
       "  \"/>\n",
       "<polyline clip-path=\"url(#clip0500)\" style=\"stroke:#000000; stroke-width:4; stroke-opacity:1; fill:none\" points=\"\n",
       "  140.517,335.29 173.7,335.29 \n",
       "  \"/>\n",
       "<polyline clip-path=\"url(#clip0500)\" style=\"stroke:#000000; stroke-width:4; stroke-opacity:1; fill:none\" points=\"\n",
       "  140.517,47.2441 173.7,47.2441 \n",
       "  \"/>\n",
       "<g clip-path=\"url(#clip0500)\">\n",
       "<text style=\"fill:#000000; fill-opacity:1; font-family:Arial,Helvetica Neue,Helvetica,sans-serif; font-size:48px; text-anchor:middle;\" transform=\"rotate(0, 199.75, 1541.47)\" x=\"199.75\" y=\"1541.47\">0</text>\n",
       "</g>\n",
       "<g clip-path=\"url(#clip0500)\">\n",
       "<text style=\"fill:#000000; fill-opacity:1; font-family:Arial,Helvetica Neue,Helvetica,sans-serif; font-size:48px; text-anchor:middle;\" transform=\"rotate(0, 537.455, 1541.47)\" x=\"537.455\" y=\"1541.47\">100</text>\n",
       "</g>\n",
       "<g clip-path=\"url(#clip0500)\">\n",
       "<text style=\"fill:#000000; fill-opacity:1; font-family:Arial,Helvetica Neue,Helvetica,sans-serif; font-size:48px; text-anchor:middle;\" transform=\"rotate(0, 875.161, 1541.47)\" x=\"875.161\" y=\"1541.47\">200</text>\n",
       "</g>\n",
       "<g clip-path=\"url(#clip0500)\">\n",
       "<text style=\"fill:#000000; fill-opacity:1; font-family:Arial,Helvetica Neue,Helvetica,sans-serif; font-size:48px; text-anchor:middle;\" transform=\"rotate(0, 1212.87, 1541.47)\" x=\"1212.87\" y=\"1541.47\">300</text>\n",
       "</g>\n",
       "<g clip-path=\"url(#clip0500)\">\n",
       "<text style=\"fill:#000000; fill-opacity:1; font-family:Arial,Helvetica Neue,Helvetica,sans-serif; font-size:48px; text-anchor:middle;\" transform=\"rotate(0, 1550.57, 1541.47)\" x=\"1550.57\" y=\"1541.47\">400</text>\n",
       "</g>\n",
       "<g clip-path=\"url(#clip0500)\">\n",
       "<text style=\"fill:#000000; fill-opacity:1; font-family:Arial,Helvetica Neue,Helvetica,sans-serif; font-size:48px; text-anchor:middle;\" transform=\"rotate(0, 1888.28, 1541.47)\" x=\"1888.28\" y=\"1541.47\">500</text>\n",
       "</g>\n",
       "<g clip-path=\"url(#clip0500)\">\n",
       "<text style=\"fill:#000000; fill-opacity:1; font-family:Arial,Helvetica Neue,Helvetica,sans-serif; font-size:48px; text-anchor:middle;\" transform=\"rotate(0, 2225.98, 1541.47)\" x=\"2225.98\" y=\"1541.47\">600</text>\n",
       "</g>\n",
       "<g clip-path=\"url(#clip0500)\">\n",
       "<text style=\"fill:#000000; fill-opacity:1; font-family:Arial,Helvetica Neue,Helvetica,sans-serif; font-size:48px; text-anchor:end;\" transform=\"rotate(0, 116.517, 1504.97)\" x=\"116.517\" y=\"1504.97\">0</text>\n",
       "</g>\n",
       "<g clip-path=\"url(#clip0500)\">\n",
       "<text style=\"fill:#000000; fill-opacity:1; font-family:Arial,Helvetica Neue,Helvetica,sans-serif; font-size:48px; text-anchor:end;\" transform=\"rotate(0, 116.517, 1216.93)\" x=\"116.517\" y=\"1216.93\">10</text>\n",
       "</g>\n",
       "<g clip-path=\"url(#clip0500)\">\n",
       "<text style=\"fill:#000000; fill-opacity:1; font-family:Arial,Helvetica Neue,Helvetica,sans-serif; font-size:48px; text-anchor:end;\" transform=\"rotate(0, 116.517, 928.882)\" x=\"116.517\" y=\"928.882\">20</text>\n",
       "</g>\n",
       "<g clip-path=\"url(#clip0500)\">\n",
       "<text style=\"fill:#000000; fill-opacity:1; font-family:Arial,Helvetica Neue,Helvetica,sans-serif; font-size:48px; text-anchor:end;\" transform=\"rotate(0, 116.517, 640.836)\" x=\"116.517\" y=\"640.836\">30</text>\n",
       "</g>\n",
       "<g clip-path=\"url(#clip0500)\">\n",
       "<text style=\"fill:#000000; fill-opacity:1; font-family:Arial,Helvetica Neue,Helvetica,sans-serif; font-size:48px; text-anchor:end;\" transform=\"rotate(0, 116.517, 352.79)\" x=\"116.517\" y=\"352.79\">40</text>\n",
       "</g>\n",
       "<g clip-path=\"url(#clip0500)\">\n",
       "<text style=\"fill:#000000; fill-opacity:1; font-family:Arial,Helvetica Neue,Helvetica,sans-serif; font-size:48px; text-anchor:end;\" transform=\"rotate(0, 116.517, 64.7441)\" x=\"116.517\" y=\"64.7441\">50</text>\n",
       "</g>\n",
       "<polyline clip-path=\"url(#clip0502)\" style=\"stroke:#009af9; stroke-width:4; stroke-opacity:1; fill:none\" points=\"\n",
       "  203.127,1487.47 206.504,1337.69 209.881,1750.56 213.259,1382.34 216.636,1479.41 220.013,1416.42 223.39,1220.83 226.767,1267.84 230.144,1132.22 233.521,1023.72 \n",
       "  236.898,1134.49 240.275,1043.88 243.652,1018.4 247.029,1019.4 250.406,954.589 253.783,912.283 257.16,862.415 260.537,817.127 263.914,776.607 267.291,740.139 \n",
       "  270.668,707.144 274.045,760.158 277.422,729.162 280.8,700.749 284.177,675.876 287.554,683.161 290.931,694.814 294.308,683.003 297.685,661.08 301.062,690.259 \n",
       "  304.439,678.716 307.816,707.77 311.193,738.206 314.57,717.883 317.947,780.198 321.324,781.842 324.701,800.446 328.078,780.625 331.455,761.82 334.832,780.105 \n",
       "  338.209,762.231 341.586,745.207 344.964,728.976 348.341,713.482 351.718,698.676 355.095,684.515 358.472,693.203 361.849,708.13 365.226,699.463 368.603,686.418 \n",
       "  371.98,673.886 375.357,677.677 378.734,665.782 382.111,701.055 385.488,689.168 388.865,694.679 392.242,683.321 395.619,708.409 398.996,727.082 402.373,715.751 \n",
       "  405.75,708.947 409.128,698.275 412.505,687.941 415.882,695.393 419.259,685.421 422.636,717.999 426.013,715.081 429.39,713.647 432.767,703.989 436.144,721.107 \n",
       "  439.521,711.616 442.898,733.194 446.275,723.797 449.652,745.094 453.029,769.664 456.406,760.158 459.783,750.9 463.16,746.975 466.537,738.117 469.914,745.72 \n",
       "  473.291,737.097 476.669,728.684 480.046,742.06 483.423,733.788 486.8,738.182 490.177,730.148 493.554,737.926 496.931,746.967 500.308,739.105 503.685,731.418 \n",
       "  507.062,723.899 510.439,716.544 513.816,709.348 517.193,702.304 520.57,711.054 523.947,711.46 527.324,707.048 530.701,702.255 534.078,695.639 537.455,701.426 \n",
       "  540.833,695.462 544.21,689.107 547.587,682.875 550.964,676.763 554.341,670.768 557.718,664.886 561.095,659.113 564.472,653.448 567.849,660.782 571.226,655.205 \n",
       "  574.603,656.578 577.98,663.02 581.357,659.814 584.734,654.44 588.111,654.671 591.488,666.965 594.865,680.429 598.242,679.09 601.619,682.882 604.997,679.961 \n",
       "  608.374,674.732 611.751,669.589 615.128,667.878 618.505,662.873 621.882,657.948 625.259,661.148 628.636,657.562 632.013,652.794 635.39,653.146 638.767,648.485 \n",
       "  642.144,661.266 645.521,669.315 648.898,664.637 652.275,673.744 655.652,669.146 659.029,683.72 662.406,679.074 665.783,682.845 669.16,678.272 672.538,673.765 \n",
       "  675.915,669.322 679.292,685.023 682.669,695.59 686.046,691.087 689.423,695.785 692.8,701.76 696.177,703.989 699.554,700.681 702.931,699.698 706.308,710.48 \n",
       "  709.685,716.274 713.062,711.873 716.439,708.508 719.816,707.3 723.193,703.041 726.57,698.838 729.947,696.999 733.324,692.887 736.702,694.007 740.079,697.058 \n",
       "  743.456,698.855 746.833,694.832 750.21,691.001 753.587,689.394 756.964,688.609 760.341,684.746 763.718,680.928 767.095,680.105 770.472,676.361 773.849,672.66 \n",
       "  777.226,669.003 780.603,676.441 783.98,691.119 787.357,689.057 790.734,685.39 794.111,681.764 797.488,678.179 800.866,674.634 804.243,681.621 807.62,678.273 \n",
       "  810.997,674.787 814.374,671.339 817.751,669.833 821.128,666.449 824.505,663.102 827.882,663.57 831.259,660.675 834.636,660.752 838.013,658.816 841.39,655.598 \n",
       "  844.767,652.412 848.144,649.26 851.521,646.141 854.898,647.835 858.275,644.755 861.652,642.294 865.03,639.274 868.407,645.915 871.784,642.906 875.161,641.67 \n",
       "  878.538,645.492 881.915,642.53 885.292,639.597 888.669,636.694 892.046,639.846 895.423,636.97 898.8,646.978 902.177,648.513 905.554,647.317 908.931,644.569 \n",
       "  912.308,641.739 915.685,642.548 919.062,639.754 922.439,641.427 925.816,638.663 929.193,635.925 932.571,633.212 935.948,630.524 939.325,636.279 942.702,635.644 \n",
       "  946.079,645.624 949.456,646.588 952.833,643.9 956.21,650.932 959.587,651.501 962.964,648.827 966.341,648.436 969.718,645.799 973.095,644.116 976.472,644.689 \n",
       "  979.849,642.103 983.226,639.539 986.603,636.997 989.98,634.477 993.357,633.547 996.735,631.062 1000.11,629.912 1003.49,627.463 1006.87,625.036 1010.24,622.628 \n",
       "  1013.62,624.735 1017,622.348 1020.37,619.982 1023.75,626.37 1027.13,637.456 1030.51,635.057 1033.88,632.677 1037.26,630.317 1040.64,630.775 1044.01,628.441 \n",
       "  1047.39,628.902 1050.77,627.143 1054.14,624.851 1057.52,622.577 1060.9,621.179 1064.28,622.357 1067.65,620.12 1071.03,622.186 1074.41,619.967 1077.78,617.764 \n",
       "  1081.16,615.578 1084.54,613.409 1087.91,611.256 1091.29,609.12 1094.67,608.673 1098.05,608.111 1101.42,606.01 1104.8,603.925 1108.18,601.856 1111.55,600.858 \n",
       "  1114.93,598.815 1118.31,596.787 1121.69,595.587 1125.06,598.674 1128.44,600.356 1131.82,602.296 1135.19,601.125 1138.57,599.132 1141.95,599.653 1145.32,597.68 \n",
       "  1148.7,595.721 1152.08,593.776 1155.46,594.878 1158.83,596.317 1162.21,594.39 1165.59,595.861 1168.96,593.95 1172.34,599.032 1175.72,597.123 1179.1,596.101 \n",
       "  1182.47,596.63 1185.85,594.749 1189.23,595.476 1192.6,593.611 1195.98,591.759 1199.36,589.919 1202.73,588.092 1206.11,589.757 1209.49,589.118 1212.87,588.694 \n",
       "  1216.24,593.039 1219.62,591.918 1223,591.071 1226.37,589.282 1229.75,588.657 1233.13,594.664 1236.51,599.279 1239.88,597.487 1243.26,602.371 1246.64,602.829 \n",
       "  1250.01,601.043 1253.39,602.444 1256.77,600.67 1260.14,600.797 1263.52,604.252 1266.9,609.053 1270.28,607.28 1273.65,605.519 1277.03,603.769 1280.41,602.03 \n",
       "  1283.78,601.172 1287.16,607.467 1290.54,605.893 1293.92,606.071 1297.29,605.557 1300.67,606.955 1304.05,605.243 1307.42,606.756 1310.8,605.055 1314.18,603.365 \n",
       "  1317.55,601.685 1320.93,603.833 1324.31,602.161 1327.69,602.155 1331.06,600.499 1334.44,598.852 1337.82,597.369 1341.19,599.168 1344.57,599.307 1347.95,597.683 \n",
       "  1351.32,599.668 1354.7,598.052 1358.08,596.766 1361.46,595.168 1364.83,594.315 1368.21,592.734 1371.59,591.162 1374.96,589.599 1378.34,588.507 1381.72,586.96 \n",
       "  1385.1,585.423 1388.47,589.916 1391.85,589.13 1395.23,587.599 1398.6,588.665 1401.98,587.144 1405.36,586.939 1408.73,585.432 1412.11,583.997 1415.49,582.506 \n",
       "  1418.87,581.997 1422.24,582.111 1425.62,580.637 1429,579.172 1432.37,577.715 1435.75,576.265 1439.13,574.824 1442.51,574.314 1445.88,579.817 1449.26,582.348 \n",
       "  1452.64,580.906 1456.01,579.471 1459.39,580.168 1462.77,578.743 1466.14,580.368 1469.52,580.85 1472.9,579.434 1476.28,578.026 1479.65,581.095 1483.03,580.675 \n",
       "  1486.41,582.602 1489.78,581.2 1493.16,579.806 1496.54,578.419 1499.92,581.888 1503.29,582.062 1506.67,580.74 1510.05,579.365 1513.42,579.715 1516.8,578.349 \n",
       "  1520.18,582.421 1523.55,581.055 1526.93,579.939 1530.31,578.587 1533.69,579.896 1537.06,580.326 1540.44,580.623 1543.82,583.784 1547.19,583.393 1550.57,582.369 \n",
       "  1553.95,581.035 1557.33,581.835 1560.7,580.508 1564.08,583.338 1567.46,582.014 1570.83,580.697 1574.21,579.386 1577.59,578.082 1580.96,579.855 1584.34,578.556 \n",
       "  1587.72,577.263 1591.1,575.977 1594.47,576.51 1597.85,581.813 1601.23,580.525 1604.6,579.243 1607.98,583.314 1611.36,586.125 1614.74,584.839 1618.11,583.559 \n",
       "  1621.49,582.285 1624.87,582.177 1628.24,583.31 1631.62,582.045 1635,585.884 1638.37,584.619 1641.75,586.612 1645.13,585.352 1648.51,584.688 1651.88,583.439 \n",
       "  1655.26,583.184 1658.64,582.45 1662.01,581.214 1665.39,579.983 1668.77,580.732 1672.14,581.689 1675.52,581.408 1678.9,580.189 1682.28,582.898 1685.65,585.871 \n",
       "  1689.03,584.649 1692.41,585.402 1695.78,584.187 1699.16,582.977 1702.54,581.774 1705.92,580.575 1709.29,579.64 1712.67,579.724 1716.05,578.538 1719.42,577.358 \n",
       "  1722.8,576.182 1726.18,575.012 1729.55,573.847 1732.93,576.494 1736.31,575.331 1739.69,579.037 1743.06,577.873 1746.44,576.74 1749.82,575.586 1753.19,574.437 \n",
       "  1756.57,573.294 1759.95,572.155 1763.33,571.843 1766.7,574.859 1770.08,573.724 1773.46,572.594 1776.83,571.642 1780.21,571.266 1783.59,575.689 1786.96,574.565 \n",
       "  1790.34,573.445 1793.72,573.673 1797.1,572.56 1800.47,571.452 1803.85,570.348 1807.23,569.249 1810.6,568.155 1813.98,571.175 1817.36,570.081 1820.74,568.992 \n",
       "  1824.11,567.907 1827.49,566.827 1830.87,570.2 1834.24,571.083 1837.62,570.003 1841,568.928 1844.37,569.193 1847.75,569.097 1851.13,568.03 1854.51,567.109 \n",
       "  1857.88,570.039 1861.26,573.227 1864.64,572.867 1868.01,571.803 1871.39,571.127 1874.77,570.071 1878.15,569.019 1881.52,567.971 1884.9,567.967 1888.28,566.925 \n",
       "  1891.65,568.096 1895.03,567.058 1898.41,566.643 1901.78,565.613 1905.16,564.586 1908.54,564.816 1911.92,565.398 1915.29,568.721 1918.67,569.19 1922.05,568.167 \n",
       "  1925.42,567.148 1928.8,569.35 1932.18,568.58 1935.55,567.565 1938.93,566.555 1942.31,565.548 1945.69,564.546 1949.06,563.547 1952.44,565.905 1955.82,565.528 \n",
       "  1959.19,565.019 1962.57,566.08 1965.95,565.088 1969.33,564.1 1972.7,563.779 1976.08,562.797 1979.46,567.132 1982.83,570.108 1986.21,571.875 1989.59,570.885 \n",
       "  1992.96,569.899 1996.34,568.916 1999.72,567.937 2003.1,567.852 2006.47,567.762 2009.85,569.553 2013.23,568.581 2016.6,568.907 2019.98,567.94 2023.36,567.178 \n",
       "  2026.74,569.912 2030.11,570.244 2033.49,572.666 2036.87,572.388 2040.24,571.425 2043.62,571.066 2047,570.108 2050.37,572.087 2053.75,571.131 2057.13,572.148 \n",
       "  2060.51,571.195 2063.88,572.14 2067.26,571.368 2070.64,573.043 2074.01,574.991 2077.39,574.042 2080.77,573.944 2084.15,573.001 2087.52,572.06 2090.9,571.123 \n",
       "  2094.28,570.189 2097.65,570.104 2101.03,569.175 2104.41,568.25 2107.78,567.328 2111.16,567.697 2114.54,569.796 2117.92,569.891 2121.29,568.972 2124.67,568.431 \n",
       "  2128.05,569.082 2131.42,568.169 2134.8,569.342 2138.18,568.432 2141.56,567.526 2144.93,566.622 2148.31,566.201 2151.69,565.304 2155.06,564.409 2158.44,566.159 \n",
       "  2161.82,568.548 2165.19,567.652 2168.57,569.951 2171.95,572.055 2175.33,571.434 2178.7,571.68 2182.08,570.786 2185.46,569.896 2188.83,570.031 2192.21,569.35 \n",
       "  2195.59,568.466 2198.96,567.746 2202.34,571.036 2205.72,572.375 2209.1,571.493 2212.47,573.755 2215.85,574.306 2219.23,575.178 2222.6,574.296 2225.98,573.418 \n",
       "  2229.36,576.204 2232.74,577.555 2236.11,578.004 2239.49,577.23 2242.87,576.354 2246.24,579.502 2249.62,578.625 2253,577.751 2256.37,576.88 2259.75,576.012 \n",
       "  2263.13,575.25 2266.51,574.387 2269.88,577.559 2273.26,577.634 2276.64,576.771 2280.01,575.912 2283.39,576.483 2286.77,575.627 2290.15,574.773 \n",
       "  \"/>\n",
       "<path clip-path=\"url(#clip0500)\" d=\"\n",
       "M1989.93 251.724 L2280.76 251.724 L2280.76 130.764 L1989.93 130.764  Z\n",
       "  \" fill=\"#ffffff\" fill-rule=\"evenodd\" fill-opacity=\"1\"/>\n",
       "<polyline clip-path=\"url(#clip0500)\" style=\"stroke:#000000; stroke-width:4; stroke-opacity:1; fill:none\" points=\"\n",
       "  1989.93,251.724 2280.76,251.724 2280.76,130.764 1989.93,130.764 1989.93,251.724 \n",
       "  \"/>\n",
       "<polyline clip-path=\"url(#clip0500)\" style=\"stroke:#009af9; stroke-width:4; stroke-opacity:1; fill:none\" points=\"\n",
       "  2013.93,191.244 2157.93,191.244 \n",
       "  \"/>\n",
       "<g clip-path=\"url(#clip0500)\">\n",
       "<text style=\"fill:#000000; fill-opacity:1; font-family:Arial,Helvetica Neue,Helvetica,sans-serif; font-size:48px; text-anchor:start;\" transform=\"rotate(0, 2181.93, 208.744)\" x=\"2181.93\" y=\"208.744\">y1</text>\n",
       "</g>\n",
       "</svg>\n"
      ]
     },
     "execution_count": 36,
     "metadata": {},
     "output_type": "execute_result"
    }
   ],
   "source": [
    "xx = []\n",
    "yy = []\n",
    "yyy = []\n",
    "for (i, t) in enumerate(totals)\n",
    "    push!(xx, i)\n",
    "    push!(yy, t)\n",
    "    push!(yyy, mean(yy))\n",
    "end\n",
    "\n",
    "plot(xx, yyy, ylims = (0,50))"
   ]
  },
  {
   "cell_type": "code",
   "execution_count": 210,
   "metadata": {},
   "outputs": [
    {
     "data": {
      "text/plain": [
       "2.0131182926706272e35"
      ]
     },
     "execution_count": 210,
     "metadata": {},
     "output_type": "execute_result"
    }
   ],
   "source": []
  },
  {
   "cell_type": "code",
   "execution_count": 25,
   "metadata": {},
   "outputs": [
    {
     "data": {
      "text/plain": [
       "\"0.44_theta_11.28_1\""
      ]
     },
     "execution_count": 25,
     "metadata": {},
     "output_type": "execute_result"
    }
   ],
   "source": [
    "thetaframe = DataFrame(θ)\n",
    "CSV.write(\"0.44_theta_11.28_1\", thetaframe)"
   ]
  },
  {
   "cell_type": "code",
   "execution_count": 51,
   "metadata": {},
   "outputs": [
    {
     "data": {
      "text/plain": [
       "3.5612535612535624e-5"
      ]
     },
     "execution_count": 51,
     "metadata": {},
     "output_type": "execute_result"
    }
   ],
   "source": [
    "b = ParticleCollection([[20, 60, 90, 1] for i in 1:N]);\n",
    "ξ = weighted_grid_2(b)/N\n",
    "var(ξ)\n"
   ]
  },
  {
   "cell_type": "code",
   "execution_count": null,
   "metadata": {},
   "outputs": [],
   "source": []
  },
  {
   "cell_type": "code",
   "execution_count": null,
   "metadata": {},
   "outputs": [],
   "source": []
  }
 ],
 "metadata": {
  "kernelspec": {
   "display_name": "Julia 1.3.0",
   "language": "julia",
   "name": "julia-1.3"
  },
  "language_info": {
   "file_extension": ".jl",
   "mimetype": "application/julia",
   "name": "julia",
   "version": "1.3.0"
  }
 },
 "nbformat": 4,
 "nbformat_minor": 2
}
